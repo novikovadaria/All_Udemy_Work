{
 "cells": [
  {
   "cell_type": "code",
   "execution_count": 1,
   "id": "2dfafb6f",
   "metadata": {},
   "outputs": [
    {
     "name": "stdout",
     "output_type": "stream",
     "text": [
      "Collecting httplib2\n",
      "  Downloading httplib2-0.21.0-py3-none-any.whl (96 kB)\n",
      "Requirement already satisfied: pyparsing!=3.0.0,!=3.0.1,!=3.0.2,!=3.0.3,<4,>=2.4.2 in c:\\users\\79384\\anaconda3\\lib\\site-packages (from httplib2) (3.0.4)\n",
      "Installing collected packages: httplib2\n",
      "Successfully installed httplib2-0.21.0\n"
     ]
    }
   ],
   "source": [
    "!pip install httplib2"
   ]
  },
  {
   "cell_type": "code",
   "execution_count": 2,
   "id": "231cc262",
   "metadata": {},
   "outputs": [],
   "source": [
    "import httplib2\n",
    "import webbrowser\n",
    "\n",
    "from pprint import pprint"
   ]
  },
  {
   "cell_type": "code",
   "execution_count": 3,
   "id": "3b4abf2d",
   "metadata": {},
   "outputs": [],
   "source": [
    "bin_url = 'https://httpbin.org/'"
   ]
  },
  {
   "cell_type": "code",
   "execution_count": 4,
   "id": "cdb26cd4",
   "metadata": {},
   "outputs": [
    {
     "data": {
      "text/plain": [
       "True"
      ]
     },
     "execution_count": 4,
     "metadata": {},
     "output_type": "execute_result"
    }
   ],
   "source": [
    "webbrowser.open(bin_url)"
   ]
  },
  {
   "cell_type": "code",
   "execution_count": 5,
   "id": "1a9dd9dc",
   "metadata": {},
   "outputs": [],
   "source": [
    "http = httplib2.Http()"
   ]
  },
  {
   "cell_type": "code",
   "execution_count": 6,
   "id": "b134d6b1",
   "metadata": {},
   "outputs": [
    {
     "name": "stdout",
     "output_type": "stream",
     "text": [
      "{'access-control-allow-credentials': 'true',\n",
      " 'access-control-allow-origin': '*',\n",
      " 'connection': 'keep-alive',\n",
      " 'content-length': '9593',\n",
      " 'content-location': 'https://httpbin.org/',\n",
      " 'content-type': 'text/html; charset=utf-8',\n",
      " 'date': 'Wed, 18 Jan 2023 13:12:20 GMT',\n",
      " 'server': 'gunicorn/19.9.0',\n",
      " 'status': '200'}\n"
     ]
    }
   ],
   "source": [
    "resp, data = http.request(bin_url)\n",
    "pprint(resp)"
   ]
  },
  {
   "cell_type": "code",
   "execution_count": 7,
   "id": "6570ca34",
   "metadata": {},
   "outputs": [
    {
     "data": {
      "text/plain": [
       "httplib2.Response"
      ]
     },
     "execution_count": 7,
     "metadata": {},
     "output_type": "execute_result"
    }
   ],
   "source": [
    "type(resp)"
   ]
  },
  {
   "cell_type": "code",
   "execution_count": 8,
   "id": "912705bf",
   "metadata": {},
   "outputs": [
    {
     "data": {
      "text/plain": [
       "200"
      ]
     },
     "execution_count": 8,
     "metadata": {},
     "output_type": "execute_result"
    }
   ],
   "source": [
    "resp.status"
   ]
  },
  {
   "cell_type": "code",
   "execution_count": 9,
   "id": "a9ff727b",
   "metadata": {},
   "outputs": [
    {
     "name": "stdout",
     "output_type": "stream",
     "text": [
      "(b'<!DOCTYPE html>\\n<html lang=\"en\">\\n\\n<head>\\n    <meta charset=\"UTF-8\">\\n'\n",
      " b'    <title>httpbin.org</title>\\n    <link href=\"https://fonts.googleapis.'\n",
      " b'com/css?family=Open+Sans:400,700|Source+Code+Pro:300,600|Titillium+Web:400,6'\n",
      " b'00,700\"\\n        rel=\"stylesheet\">\\n    <link rel=\"stylesheet\" type=\"text/'\n",
      " b'css\" href=\"/flasgger_static/swagger-ui.css\">\\n    <link rel=\"icon\" type=\"'\n",
      " b'image/png\" href=\"/static/favicon.ico\" sizes=\"64x64 32x32 16x16\" />\\n    <'\n",
      " b'style>\\n        html {\\n            box-sizing: border-box;\\n            ov'\n",
      " b'erflow: -moz-scrollbars-vertical;\\n            overflow-y: scroll;\\n      '\n",
      " b'  }\\n\\n        *,\\n        *:before,\\n        *:after {\\n            box-'\n",
      " b'sizing: inherit;\\n        }\\n\\n        body {\\n            margin: 0;\\n  '\n",
      " b'          background: #fafafa;\\n        }\\n    </style>\\n</head>\\n\\n<body'\n",
      " b'>\\n    <a href=\"https://github.com/requests/httpbin\" class=\"github-corner'\n",
      " b'\" aria-label=\"View source on Github\">\\n        <svg width=\"80\" height=\"80'\n",
      " b'\" viewBox=\"0 0 250 250\" style=\"fill:#151513; color:#fff; position: absolute;'\n",
      " b' top: 0; border: 0; right: 0;\"\\n            aria-hidden=\"true\">\\n         '\n",
      " b'   <path d=\"M0,0 L115,115 L130,115 L142,142 L250,250 L250,0 Z\"></path>\\n '\n",
      " b'           <path d=\"M128.3,109.0 C113.8,99.7 119.0,89.6 119.0,89.6 C122.0,82'\n",
      " b'.7 120.5,78.6 120.5,78.6 C119.2,72.0 123.4,76.3 123.4,76.3 C127.3,80.9 125.5'\n",
      " b',87.3 125.5,87.3 C122.9,97.6 130.6,101.9 134.4,103.2\"\\n                fi'\n",
      " b'll=\"currentColor\" style=\"transform-origin: 130px 106px;\" class=\"octo-arm\"></'\n",
      " b'path>\\n            <path d=\"M115.0,115.0 C114.9,115.1 118.7,116.5 119.8,1'\n",
      " b'15.4 L133.7,101.6 C136.9,99.2 139.9,98.4 142.2,98.6 C133.8,88.0 127.5,74.4 1'\n",
      " b'43.8,58.0 C148.5,53.4 154.0,51.2 159.7,51.0 C160.3,49.4 163.2,43.6 171.4,40.'\n",
      " b'1 C171.4,40.1 176.1,42.5 178.8,56.2 C183.1,58.6 187.2,61.8 190.9,65.4 C194.5'\n",
      " b',69.0 197.7,73.2 200.1,77.6 C213.8,80.2 216.3,84.9 216.3,84.9 C212.7,93.1 20'\n",
      " b'6.9,96.0 205.4,96.6 C205.1,102.4 203.0,107.8 198.3,112.5 C181.9,128.9 168.3,'\n",
      " b'122.5 157.7,114.1 C157.9,116.9 156.7,120.9 152.7,124.9 L141.0,136.5 C139.8,1'\n",
      " b'37.7 141.6,141.9 141.8,141.8 Z\"\\n                fill=\"currentColor\" clas'\n",
      " b's=\"octo-body\"></path>\\n        </svg>\\n    </a>\\n    <svg xmlns=\"http://www'\n",
      " b'.w3.org/2000/svg\" xmlns:xlink=\"http://www.w3.org/1999/xlink\" style=\"position'\n",
      " b':absolute;width:0;height:0\">\\n        <defs>\\n            <symbol viewBox='\n",
      " b'\"0 0 20 20\" id=\"unlocked\">\\n                <path d=\"M15.8 8H14V5.6C14 2.'\n",
      " b'703 12.665 1 10 1 7.334 1 6 2.703 6 5.6V6h2v-.801C8 3.754 8.797 3 10 3c1.203'\n",
      " b' 0 2 .754 2 2.199V8H4c-.553 0-1 .646-1 1.199V17c0 .549.428 1.139.951 1.307l1'\n",
      " b'.197.387C5.672 18.861 6.55 19 7.1 19h5.8c.549 0 1.428-.139 1.951-.307l1.196-'\n",
      " b'.387c.524-.167.953-.757.953-1.306V9.199C17 8.646 16.352 8 15.8 8z\"></pat'\n",
      " b'h>\\n            </symbol>\\n\\n            <symbol viewBox=\"0 0 20 20\" id=\"lo'\n",
      " b'cked\">\\n                <path d=\"M15.8 8H14V5.6C14 2.703 12.665 1 10 1 7.'\n",
      " b'334 1 6 2.703 6 5.6V8H4c-.553 0-1 .646-1 1.199V17c0 .549.428 1.139.951 1.307'\n",
      " b'l1.197.387C5.672 18.861 6.55 19 7.1 19h5.8c.549 0 1.428-.139 1.951-.307l1.19'\n",
      " b'6-.387c.524-.167.953-.757.953-1.306V9.199C17 8.646 16.352 8 15.8 8zM12 8H8V5'\n",
      " b'.199C8 3.754 8.797 3 10 3c1.203 0 2 .754 2 2.199V8z\"\\n                />\\n'\n",
      " b'            </symbol>\\n\\n            <symbol viewBox=\"0 0 20 20\" id=\"close'\n",
      " b'\">\\n                <path d=\"M14.348 14.849c-.469.469-1.229.469-1.697 0L1'\n",
      " b'0 11.819l-2.651 3.029c-.469.469-1.229.469-1.697 0-.469-.469-.469-1.229 0-1.6'\n",
      " b'97l2.758-3.15-2.759-3.152c-.469-.469-.469-1.228 0-1.697.469-.469 1.228-.469 '\n",
      " b'1.697 0L10 8.183l2.651-3.031c.469-.469 1.228-.469 1.697 0 .469.469.469 1.229'\n",
      " b' 0 1.697l-2.758 3.152 2.758 3.15c.469.469.469 1.229 0 1.698z\"\\n          '\n",
      " b'      />\\n            </symbol>\\n\\n            <symbol viewBox=\"0 0 20 20\" '\n",
      " b'id=\"large-arrow\">\\n                <path d=\"M13.25 10L6.109 2.58c-.268-.2'\n",
      " b'7-.268-.707 0-.979.268-.27.701-.27.969 0l7.83 7.908c.268.271.268.709 0 .979l'\n",
      " b'-7.83 7.908c-.268.271-.701.27-.969 0-.268-.269-.268-.707 0-.979L13.25 10'\n",
      " b'z\"\\n                />\\n            </symbol>\\n\\n            <symbol viewBox'\n",
      " b'=\"0 0 20 20\" id=\"large-arrow-down\">\\n                <path d=\"M17.418 6.1'\n",
      " b'09c.272-.268.709-.268.979 0s.271.701 0 .969l-7.908 7.83c-.27.268-.707.268-.9'\n",
      " b'79 0l-7.908-7.83c-.27-.268-.27-.701 0-.969.271-.268.709-.268.979 0L10 13.25l'\n",
      " b'7.418-7.141z\"\\n                />\\n            </symbol>\\n\\n\\n           '\n",
      " b' <symbol viewBox=\"0 0 24 24\" id=\"jump-to\">\\n                <path d=\"M19 '\n",
      " b'7v4H5.83l3.58-3.59L8 6l-6 6 6 6 1.41-1.41L5.83 13H21V7z\" />\\n            '\n",
      " b'</symbol>\\n\\n            <symbol viewBox=\"0 0 24 24\" id=\"expand\">\\n        '\n",
      " b'        <path d=\"M10 18h4v-2h-4v2zM3 6v2h18V6H3zm3 7h12v-2H6v2z\" />\\n    '\n",
      " b'        </symbol>\\n\\n        </defs>\\n    </svg>\\n\\n\\n    <div id=\"swagger'\n",
      " b'-ui\">\\n        <div data-reactroot=\"\" class=\"swagger-ui\">\\n            <di'\n",
      " b'v>\\n                <div class=\"information-container wrapper\">\\n         '\n",
      " b'           <section class=\"block col-12\">\\n                        <div c'\n",
      " b'lass=\"info\">\\n                            <hgroup class=\"main\">\\n         '\n",
      " b'                       <h2 class=\"title\">httpbin.org\\n                   '\n",
      " b'                 <small>\\n                                        <pre cl'\n",
      " b'ass=\"version\">0.9.2</pre>\\n                                    </small>\\n '\n",
      " b'                               </h2>\\n                                <pr'\n",
      " b'e class=\"base-url\">[ Base URL: httpbin.org/ ]</pre>\\n                    '\n",
      " b'        </hgroup>\\n                            <div class=\"description\">\\n'\n",
      " b'                                <div class=\"markdown\">\\n                 '\n",
      " b'                   <p>A simple HTTP Request &amp; Response Service.\\n    '\n",
      " b'                                    <br>\\n                               '\n",
      " b'         <br>\\n                                        <b>Run locally: </'\n",
      " b'b>\\n                                        <code>$ docker run -p 80:80 k'\n",
      " b'ennethreitz/httpbin</code>\\n                                    </p>\\n    '\n",
      " b'                            </div>\\n                            </div>\\n  '\n",
      " b'                          <div>\\n                                <div>\\n  '\n",
      " b'                                  <a href=\"https://kennethreitz.org\" target='\n",
      " b'\"_blank\">the developer - Website</a>\\n                                </d'\n",
      " b'iv>\\n                                <a href=\"mailto:me@kennethreitz.org\"'\n",
      " b'>Send email to the developer</a>\\n                            </div>\\n    '\n",
      " b'                    </div>\\n                        <!-- ADDS THE LOADER '\n",
      " b'SPINNER -->\\n                        <div class=\"loading-container\">\\n    '\n",
      " b'                        <div class=\"loading\"></div>\\n                    '\n",
      " b'    </div>\\n\\n                    </section>\\n                </div>\\n      '\n",
      " b\"      </div>\\n        </div>\\n    </div>\\n\\n\\n    <div class='swagger-ui'\"\n",
      " b'>\\n        <div class=\"wrapper\">\\n            <section class=\"clear\">\\n    '\n",
      " b'            <span style=\"float: right;\">\\n                    [Powered by'\n",
      " b'\\n                    <a target=\"_blank\" href=\"https://github.com/rochacb'\n",
      " b'runo/flasgger\">Flasgger</a>]\\n                    <br>\\n                </'\n",
      " b'span>\\n            </section>\\n        </div>\\n    </div>\\n\\n\\n\\n    <scrip'\n",
      " b't src=\"/flasgger_static/swagger-ui-bundle.js\"> </script>\\n    <script src'\n",
      " b'=\"/flasgger_static/swagger-ui-standalone-preset.js\"> </script>\\n    <scri'\n",
      " b\"pt src='/flasgger_static/lib/jquery.min.js' type='text/javascript'></script>\"\n",
      " b'\\n    <script>\\n\\n        window.onload = function () {\\n            \\n\\n '\n",
      " b'           fetch(\"/spec.json\")\\n                .then(function (response)'\n",
      " b' {\\n                    response.json()\\n                        .then(fun'\n",
      " b'ction (json) {\\n                            var current_protocol = window'\n",
      " b'.location.protocol.slice(0, -1);\\n                            if (json.sc'\n",
      " b'hemes[0] != current_protocol) {\\n                                // Switc'\n",
      " b'hes scheme to the current in use\\n                                var oth'\n",
      " b'er_protocol = json.schemes[0];\\n                                json.sche'\n",
      " b'mes[0] = current_protocol;\\n                                json.schemes['\n",
      " b'1] = other_protocol;\\n\\n                            }\\n                    '\n",
      " b'        json.host = window.location.host;  // sets the current host\\n\\n   '\n",
      " b'                         const ui = SwaggerUIBundle({\\n                  '\n",
      " b'              spec: json,\\n                                validatorUrl: '\n",
      " b\"null,\\n                                dom_id: '#swagger-ui',\\n           \"\n",
      " b'                     deepLinking: true,\\n                                '\n",
      " b'jsonEditor: true,\\n                                docExpansion: \"none\",\\n'\n",
      " b'                                apisSorter: \"alpha\",\\n                   '\n",
      " b'             //operationsSorter: \"alpha\",\\n                              '\n",
      " b'  presets: [\\n                                    SwaggerUIBundle.presets'\n",
      " b'.apis,\\n                                    // yay ES6 modules \\xe2\\x86'\n",
      " b'\\x98\\n                                    Array.isArray(SwaggerUIStandaloneP'\n",
      " b'reset) ? SwaggerUIStandalonePreset : SwaggerUIStandalonePreset.default\\n '\n",
      " b'                               ],\\n                                plugin'\n",
      " b's: [\\n                                    SwaggerUIBundle.plugins.Downloa'\n",
      " b'dUrl\\n                                ],\\n            \\n            // layo'\n",
      " b'ut: \"StandaloneLayout\"  // uncomment to enable the green top header\\n    '\n",
      " b'    })\\n\\n        window.ui = ui\\n\\n        // uncomment to rename the top b'\n",
      " b'rand if layout is enabled\\n        // $(\".topbar-wrapper .link span\").rep'\n",
      " b'laceWith(\"<span>httpbin</span>\");\\n        })\\n    })\\n}\\n    </script>  <di'\n",
      " b'v class=\\'swagger-ui\\'>\\n    <div class=\"wrapper\">\\n        <section class=\"'\n",
      " b'block col-12 block-desktop col-12-desktop\">\\n            <div>\\n\\n         '\n",
      " b'       <h2>Other Utilities</h2>\\n\\n                <ul>\\n                  '\n",
      " b'  <li>\\n                        <a href=\"/forms/post\">HTML form</a> that '\n",
      " b'posts to /post /forms/post</li>\\n                </ul>\\n\\n                <'\n",
      " b'br />\\n                <br />\\n            </div>\\n        </section>\\n    <'\n",
      " b'/div>\\n</div>\\n</body>\\n\\n</html>')\n"
     ]
    }
   ],
   "source": [
    "pprint(data)"
   ]
  },
  {
   "cell_type": "code",
   "execution_count": 10,
   "id": "34edad0e",
   "metadata": {},
   "outputs": [
    {
     "data": {
      "text/plain": [
       "bytes"
      ]
     },
     "execution_count": 10,
     "metadata": {},
     "output_type": "execute_result"
    }
   ],
   "source": [
    "type(data)"
   ]
  },
  {
   "cell_type": "code",
   "execution_count": 13,
   "id": "dc70e5c2",
   "metadata": {},
   "outputs": [
    {
     "data": {
      "text/plain": [
       "'<!DOCTYPE html>\\n<html lang=\"en\">\\n\\n<head>\\n    <meta charset=\"UTF-8\">\\n    <title>httpbin.org</title>\\n    <link href=\"https://fonts.googleapis.com/css?family=Open+Sans:400,700|Source+Code+Pro:300,600|Titillium+Web:400,600,700\"\\n        rel=\"stylesheet\">\\n    <link rel=\"stylesheet\" type=\"text/css\" href=\"/flasgger_static/swagger-ui.css\">\\n    <link rel=\"icon\" type=\"image/png\" href=\"/static/favicon.ico\" sizes=\"64x64 32x32 16x16\" />\\n    <style>\\n        html {\\n            box-sizing: border-box;\\n            overflow: -moz-scrollbars-vertical;\\n            overflow-y: scroll;\\n        }\\n\\n        *,\\n        *:before,\\n        *:after {\\n            box-sizing: inherit;\\n        }\\n\\n        body {\\n            margin: 0;\\n            background: #fafafa;\\n        }\\n    </style>\\n</head>\\n\\n<body>\\n    <a href=\"https://github.com/requests/httpbin\" class=\"github-corner\" aria-label=\"View source on Github\">\\n        <svg width=\"80\" height=\"80\" viewBox=\"0 0 250 250\" style=\"fill:#151513; color:#fff; position: absolute; top: 0; border: 0; right: 0;\"\\n            aria-hidden=\"true\">\\n            <path d=\"M0,0 L115,115 L130,115 L142,142 L250,250 L250,0 Z\"></path>\\n            <path d=\"M128.3,109.0 C113.8,99.7 119.0,89.6 119.0,89.6 C122.0,82.7 120.5,78.6 120.5,78.6 C119.2,72.0 123.4,76.3 123.4,76.3 C127.3,80.9 125.5,87.3 125.5,87.3 C122.9,97.6 130.6,101.9 134.4,103.2\"\\n                fill=\"currentColor\" style=\"transform-origin: 130px 106px;\" class=\"octo-arm\"></path>\\n            <path d=\"M115.0,115.0 C114.9,115.1 118.7,116.5 119.8,115.4 L133.7,101.6 C136.9,99.2 139.9,98.4 142.2,98.6 C133.8,88.0 127.5,74.4 143.8,58.0 C148.5,53.4 154.0,51.2 159.7,51.0 C160.3,49.4 163.2,43.6 171.4,40.1 C171.4,40.1 176.1,42.5 178.8,56.2 C183.1,58.6 187.2,61.8 190.9,65.4 C194.5,69.0 197.7,73.2 200.1,77.6 C213.8,80.2 216.3,84.9 216.3,84.9 C212.7,93.1 206.9,96.0 205.4,96.6 C205.1,102.4 203.0,107.8 198.3,112.5 C181.9,128.9 168.3,122.5 157.7,114.1 C157.9,116.9 156.7,120.9 152.7,124.9 L141.0,136.5 C139.8,137.7 141.6,141.9 141.8,141.8 Z\"\\n                fill=\"currentColor\" class=\"octo-body\"></path>\\n        </svg>\\n    </a>\\n    <svg xmlns=\"http://www.w3.org/2000/svg\" xmlns:xlink=\"http://www.w3.org/1999/xlink\" style=\"position:absolute;width:0;height:0\">\\n        <defs>\\n            <symbol viewBox=\"0 0 20 20\" id=\"unlocked\">\\n                <path d=\"M15.8 8H14V5.6C14 2.703 12.665 1 10 1 7.334 1 6 2.703 6 5.6V6h2v-.801C8 3.754 8.797 3 10 3c1.203 0 2 .754 2 2.199V8H4c-.553 0-1 .646-1 1.199V17c0 .549.428 1.139.951 1.307l1.197.387C5.672 18.861 6.55 19 7.1 19h5.8c.549 0 1.428-.139 1.951-.307l1.196-.387c.524-.167.953-.757.953-1.306V9.199C17 8.646 16.352 8 15.8 8z\"></path>\\n            </symbol>\\n\\n            <symbol viewBox=\"0 0 20 20\" id=\"locked\">\\n                <path d=\"M15.8 8H14V5.6C14 2.703 12.665 1 10 1 7.334 1 6 2.703 6 5.6V8H4c-.553 0-1 .646-1 1.199V17c0 .549.428 1.139.951 1.307l1.197.387C5.672 18.861 6.55 19 7.1 19h5.8c.549 0 1.428-.139 1.951-.307l1.196-.387c.524-.167.953-.757.953-1.306V9.199C17 8.646 16.352 8 15.8 8zM12 8H8V5.199C8 3.754 8.797 3 10 3c1.203 0 2 .754 2 2.199V8z\"\\n                />\\n            </symbol>\\n\\n            <symbol viewBox=\"0 0 20 20\" id=\"close\">\\n                <path d=\"M14.348 14.849c-.469.469-1.229.469-1.697 0L10 11.819l-2.651 3.029c-.469.469-1.229.469-1.697 0-.469-.469-.469-1.229 0-1.697l2.758-3.15-2.759-3.152c-.469-.469-.469-1.228 0-1.697.469-.469 1.228-.469 1.697 0L10 8.183l2.651-3.031c.469-.469 1.228-.469 1.697 0 .469.469.469 1.229 0 1.697l-2.758 3.152 2.758 3.15c.469.469.469 1.229 0 1.698z\"\\n                />\\n            </symbol>\\n\\n            <symbol viewBox=\"0 0 20 20\" id=\"large-arrow\">\\n                <path d=\"M13.25 10L6.109 2.58c-.268-.27-.268-.707 0-.979.268-.27.701-.27.969 0l7.83 7.908c.268.271.268.709 0 .979l-7.83 7.908c-.268.271-.701.27-.969 0-.268-.269-.268-.707 0-.979L13.25 10z\"\\n                />\\n            </symbol>\\n\\n            <symbol viewBox=\"0 0 20 20\" id=\"large-arrow-down\">\\n                <path d=\"M17.418 6.109c.272-.268.709-.268.979 0s.271.701 0 .969l-7.908 7.83c-.27.268-.707.268-.979 0l-7.908-7.83c-.27-.268-.27-.701 0-.969.271-.268.709-.268.979 0L10 13.25l7.418-7.141z\"\\n                />\\n            </symbol>\\n\\n\\n            <symbol viewBox=\"0 0 24 24\" id=\"jump-to\">\\n                <path d=\"M19 7v4H5.83l3.58-3.59L8 6l-6 6 6 6 1.41-1.41L5.83 13H21V7z\" />\\n            </symbol>\\n\\n            <symbol viewBox=\"0 0 24 24\" id=\"expand\">\\n                <path d=\"M10 18h4v-2h-4v2zM3 6v2h18V6H3zm3 7h12v-2H6v2z\" />\\n            </symbol>\\n\\n        </defs>\\n    </svg>\\n\\n\\n    <div id=\"swagger-ui\">\\n        <div data-reactroot=\"\" class=\"swagger-ui\">\\n            <div>\\n                <div class=\"information-container wrapper\">\\n                    <section class=\"block col-12\">\\n                        <div class=\"info\">\\n                            <hgroup class=\"main\">\\n                                <h2 class=\"title\">httpbin.org\\n                                    <small>\\n                                        <pre class=\"version\">0.9.2</pre>\\n                                    </small>\\n                                </h2>\\n                                <pre class=\"base-url\">[ Base URL: httpbin.org/ ]</pre>\\n                            </hgroup>\\n                            <div class=\"description\">\\n                                <div class=\"markdown\">\\n                                    <p>A simple HTTP Request &amp; Response Service.\\n                                        <br>\\n                                        <br>\\n                                        <b>Run locally: </b>\\n                                        <code>$ docker run -p 80:80 kennethreitz/httpbin</code>\\n                                    </p>\\n                                </div>\\n                            </div>\\n                            <div>\\n                                <div>\\n                                    <a href=\"https://kennethreitz.org\" target=\"_blank\">the developer - Website</a>\\n                                </div>\\n                                <a href=\"mailto:me@kennethreitz.org\">Send email to the developer</a>\\n                            </div>\\n                        </div>\\n                        <!-- ADDS THE LOADER SPINNER -->\\n                        <div class=\"loading-container\">\\n                            <div class=\"loading\"></div>\\n                        </div>\\n\\n                    </section>\\n                </div>\\n            </div>\\n        </div>\\n    </div>\\n\\n\\n    <div class=\\'swagger-ui\\'>\\n        <div class=\"wrapper\">\\n            <section class=\"clear\">\\n                <span style=\"float: right;\">\\n                    [Powered by\\n                    <a target=\"_blank\" href=\"https://github.com/rochacbruno/flasgger\">Flasgger</a>]\\n                    <br>\\n                </span>\\n            </section>\\n        </div>\\n    </div>\\n\\n\\n\\n    <script src=\"/flasgger_static/swagger-ui-bundle.js\"> </script>\\n    <script src=\"/flasgger_static/swagger-ui-standalone-preset.js\"> </script>\\n    <script src=\\'/flasgger_static/lib/jquery.min.js\\' type=\\'text/javascript\\'></script>\\n    <script>\\n\\n        window.onload = function () {\\n            \\n\\n            fetch(\"/spec.json\")\\n                .then(function (response) {\\n                    response.json()\\n                        .then(function (json) {\\n                            var current_protocol = window.location.protocol.slice(0, -1);\\n                            if (json.schemes[0] != current_protocol) {\\n                                // Switches scheme to the current in use\\n                                var other_protocol = json.schemes[0];\\n                                json.schemes[0] = current_protocol;\\n                                json.schemes[1] = other_protocol;\\n\\n                            }\\n                            json.host = window.location.host;  // sets the current host\\n\\n                            const ui = SwaggerUIBundle({\\n                                spec: json,\\n                                validatorUrl: null,\\n                                dom_id: \\'#swagger-ui\\',\\n                                deepLinking: true,\\n                                jsonEditor: true,\\n                                docExpansion: \"none\",\\n                                apisSorter: \"alpha\",\\n                                //operationsSorter: \"alpha\",\\n                                presets: [\\n                                    SwaggerUIBundle.presets.apis,\\n                                    // yay ES6 modules ↘\\n                                    Array.isArray(SwaggerUIStandalonePreset) ? SwaggerUIStandalonePreset : SwaggerUIStandalonePreset.default\\n                                ],\\n                                plugins: [\\n                                    SwaggerUIBundle.plugins.DownloadUrl\\n                                ],\\n            \\n            // layout: \"StandaloneLayout\"  // uncomment to enable the green top header\\n        })\\n\\n        window.ui = ui\\n\\n        // uncomment to rename the top brand if layout is enabled\\n        // $(\".topbar-wrapper .link span\").replaceWith(\"<span>httpbin</span>\");\\n        })\\n    })\\n}\\n    </script>  <div class=\\'swagger-ui\\'>\\n    <div class=\"wrapper\">\\n        <section class=\"block col-12 block-desktop col-12-desktop\">\\n            <div>\\n\\n                <h2>Other Utilities</h2>\\n\\n                <ul>\\n                    <li>\\n                        <a href=\"/forms/post\">HTML form</a> that posts to /post /forms/post</li>\\n                </ul>\\n\\n                <br />\\n                <br />\\n            </div>\\n        </section>\\n    </div>\\n</div>\\n</body>\\n\\n</html>'"
      ]
     },
     "execution_count": 13,
     "metadata": {},
     "output_type": "execute_result"
    }
   ],
   "source": [
    "html = data.decode('utf-8')\n",
    "html"
   ]
  },
  {
   "cell_type": "code",
   "execution_count": 14,
   "id": "35218de0",
   "metadata": {},
   "outputs": [],
   "source": [
    "resp_data = http.request('https://www.google.com/')"
   ]
  },
  {
   "cell_type": "code",
   "execution_count": 16,
   "id": "ed434f3a",
   "metadata": {},
   "outputs": [
    {
     "name": "stdout",
     "output_type": "stream",
     "text": [
      "({'-content-encoding': 'gzip',\n",
      "  'alt-svc': 'h3=\":443\"; ma=2592000,h3-29=\":443\"; ma=2592000,h3-Q050=\":443\"; '\n",
      "             'ma=2592000,h3-Q046=\":443\"; ma=2592000,h3-Q043=\":443\"; '\n",
      "             'ma=2592000,quic=\":443\"; ma=2592000; v=\"46,43\"',\n",
      "  'cache-control': 'private, max-age=0',\n",
      "  'content-length': '16699',\n",
      "  'content-location': 'https://www.google.com/',\n",
      "  'content-type': 'text/html; charset=ISO-8859-1',\n",
      "  'cross-origin-opener-policy-report-only': 'same-origin-allow-popups; '\n",
      "                                            'report-to=\"gws\"',\n",
      "  'date': 'Wed, 18 Jan 2023 13:22:18 GMT',\n",
      "  'expires': '-1',\n",
      "  'p3p': 'CP=\"This is not a P3P policy! See g.co/p3phelp for more info.\"',\n",
      "  'report-to': '{\"group\":\"gws\",\"max_age\":2592000,\"endpoints\":[{\"url\":\"https://csp.withgoogle.com/csp/report-to/gws/other\"}]}',\n",
      "  'server': 'gws',\n",
      "  'set-cookie': '1P_JAR=2023-01-18-13; expires=Fri, 17-Feb-2023 13:22:18 GMT; '\n",
      "                'path=/; domain=.google.com; Secure, '\n",
      "                'AEC=ARSKqsKJtUXR8ZM5cn5zAnzqYbyM0MjKM0oqRrGQJaU327U_C4KcNnApRh8; '\n",
      "                'expires=Mon, 17-Jul-2023 13:22:18 GMT; path=/; '\n",
      "                'domain=.google.com; Secure; HttpOnly; SameSite=lax, '\n",
      "                'NID=511=upngw8vvBxbpwosIxZ33BMCH_Y-_UzDx83h93040l3Axk0g6gez32mcrlFCDhKX0CUhnbrlKA5ID7hPSYxm2s1-_5COf6Qvbt3QHPjP55OB9oJ2JEsVRbSqwxNwzOyaUUuZutoet11Z7_f5i_0P-yeiNYTjkW0Fru-5SD2zU4xo; '\n",
      "                'expires=Thu, 20-Jul-2023 13:22:18 GMT; path=/; '\n",
      "                'domain=.google.com; HttpOnly',\n",
      "  'status': '200',\n",
      "  'transfer-encoding': 'chunked',\n",
      "  'x-frame-options': 'SAMEORIGIN',\n",
      "  'x-xss-protection': '0'},\n",
      " b'<!doctype html><html itemscope=\"\" itemtype=\"http://schema.org/WebPage\" lang='\n",
      " b'\"ru\"><head><meta content=\"&#1055;&#1086;&#1080;&#1089;&#1082; &#1080;&#1085;'\n",
      " b'&#1092;&#1086;&#1088;&#1084;&#1072;&#1094;&#1080;&#1080; &#1074; &#1080;&#10'\n",
      " b'85;&#1090;&#1077;&#1088;&#1085;&#1077;&#1090;&#1077;: &#1074;&#1077;&#1073; '\n",
      " b'&#1089;&#1090;&#1088;&#1072;&#1085;&#1080;&#1094;&#1099;, &#1082;&#1072;&#10'\n",
      " b'88;&#1090;&#1080;&#1085;&#1082;&#1080;, &#1074;&#1080;&#1076;&#1077;&#1086; '\n",
      " b'&#1080; &#1084;&#1085;&#1086;&#1075;&#1086;&#1077; &#1076;&#1088;&#1091;&#10'\n",
      " b'75;&#1086;&#1077;.\" name=\"description\"><meta content=\"noodp\" name=\"robots\"><'\n",
      " b'meta content=\"text/html; charset=UTF-8\" http-equiv=\"Content-Type\"><meta cont'\n",
      " b'ent=\"/images/branding/googleg/1x/googleg_standard_color_128dp.png\" itemprop='\n",
      " b'\"image\"><title>Google</title><script nonce=\"QQBr-mCVlTg-azSQpMvzWg\">(functio'\n",
      " b\"n(){window.google={kEI:'ifLHY4PFPLDXxc8PoZqI2A8',kEXPI:'0,1359409,6059,206,4\"\n",
      " b'804,2316,383,246,5,1129120,1197788,738,379965,16114,28684,22430,1362,283,120'\n",
      " b'32,17584,4998,13228,3847,10622,22741,5081,1593,1279,2742,149,1103,841,6296,3'\n",
      " b'514,606,2023,2298,14669,3227,2845,7,24990,4084,4696,1851,15756,3,346,230,646'\n",
      " b'0,150,13973,4,1528,2304,7039,3580,24151,4164,3193,13658,4437,9358,7428,5830,'\n",
      " b'2527,4094,17,4035,3,3541,1,42154,2,14022,25739,5679,1021,31122,4567,6259,234'\n",
      " b'18,1252,5835,12141,2827,4332,5016,2468,445,2,2,1,10957,15675,8155,7381,15970'\n",
      " b',872,19634,7,1922,5784,3995,21390,389,1123,8420,4832,8311,18193,6049,14087,1'\n",
      " b'4,82,4641,3010,11134,1421,1622,1779,3851,48,1077,5911,3079,5901,1742,2037,10'\n",
      " b',308,252,2070,932,565,7,558,991,781,1485,269,495,426,1034,42,291,2669,669,54'\n",
      " b',925,1411,20,3,432,435,2261,424,2501,841,1378,947,857,449,2,579,737,1522,146'\n",
      " b',237,1211,1035,332,536,761,1668,1051,201,1,1653,108,462,218,85,238,124,84,36'\n",
      " b'3,182,1858,128,841,61,2629,1015,494,62,1122,642,36,12,396,149,457,475,641,27'\n",
      " b'9,29,2,3,17,2,3,481,1015,1303,1163,1391,337,1457,4,19,111,4,21,76,2,355,17,1'\n",
      " b'14,67,88,1327,303,1721,96,72,352,1588,10,589,129,269,5,1853,515,1859,7,189,5'\n",
      " b'264027,11,5967,255,6,33,7,44,5993724,2805075,3311,141,795,19735,1,1,346,3823'\n",
      " b',23647463,299198,2770168,1271975,1964,16673,3405,5595,11,3834,7198,305,405,9'\n",
      " b\"94334',kBL:'q3nQ'};google.sn='webhp';google.kHL='ru';})();(function(){\\nv\"\n",
      " b'ar f=this||self;var h,k=[];function l(a){for(var b;a&&(!a.getAttribute||!(b='\n",
      " b'a.getAttribute(\"eid\")));)a=a.parentNode;return b||h}function m(a){for(var b='\n",
      " b'null;a&&(!a.getAttribute||!(b=a.getAttribute(\"leid\")));)a=a.parentNode;retur'\n",
      " b'n b}\\nfunction n(a,b,c,d,g){var e=\"\";c||-1!==b.search(\"&ei=\")||(e=\"&ei=\"+'\n",
      " b'l(d),-1===b.search(\"&lei=\")&&(d=m(d))&&(e+=\"&lei=\"+d));d=\"\";!c&&f._cshid&&-1'\n",
      " b'===b.search(\"&cshid=\")&&\"slh\"!==a&&(d=\"&cshid=\"+f._cshid);c=c||\"/\"+(g||\"gen_'\n",
      " b'204\")+\"?atyp=i&ct=\"+a+\"&cad=\"+b+e+\"&zx=\"+Date.now()+d;/^http:/i.test(c)&&\"ht'\n",
      " b'tps:\"===window.location.protocol&&(google.ml&&google.ml(Error(\"a\"),!1,{src:c'\n",
      " b',glmm:1}),c=\"\");return c};h=google.kEI;google.getEI=l;google.getLEI=m;google'\n",
      " b'.ml=function(){return null};google.log=function(a,b,c,d,g){if(c=n(a,b,c,d,g)'\n",
      " b'){a=new Image;var e=k.length;k[e]=a;a.onerror=a.onload=a.onabort=function(){'\n",
      " b'delete k[e]};a.src=c}};google.logUrl=n;}).call(this);(function(){google.y={}'\n",
      " b';google.sy=[];google.x=function(a,b){if(a)var c=a.id;else{do c=Math.random()'\n",
      " b';while(google.y[c])}google.y[c]=[a,b];return!1};google.sx=function(a){google'\n",
      " b'.sy.push(a)};google.lm=[];google.plm=function(a){google.lm.push.apply(google'\n",
      " b'.lm,a)};google.lq=[];google.load=function(a,b,c){google.lq.push([[a],b,c])};'\n",
      " b'google.loadAll=function(a,b){google.lq.push([a,b])};google.bx=!1;google.lx=f'\n",
      " b'unction(){};}).call(this);google.f={};(function(){\\ndocument.documentElem'\n",
      " b'ent.addEventListener(\"submit\",function(b){var a;if(a=b.target){var c=a.getAt'\n",
      " b'tribute(\"data-submitfalse\");a=\"1\"===c||\"q\"===c&&!a.elements.q.value?!0:!1}el'\n",
      " b'se a=!1;a&&(b.preventDefault(),b.stopPropagation())},!0);document.documentEl'\n",
      " b'ement.addEventListener(\"click\",function(b){var a;a:{for(a=b.target;a&&a!==do'\n",
      " b'cument.documentElement;a=a.parentElement)if(\"A\"===a.tagName){a=\"1\"===a.getAt'\n",
      " b'tribute(\"data-nohref\");break a}a=!1}a&&b.preventDefault()},!0);}).call(this)'\n",
      " b';</script><style>#gbar,#guser{font-size:13px;padding-top:1px !important;}#gb'\n",
      " b'ar{height:22px}#guser{padding-bottom:7px !important;text-align:right}.gbh,.g'\n",
      " b'bd{border-top:1px solid #c9d7f1;font-size:1px}.gbh{height:0;position:absolut'\n",
      " b'e;top:24px;width:100%}@media all{.gb1{height:22px;margin-right:.5em;vertical'\n",
      " b'-align:top}#gbar{float:left}}a.gb1,a.gb4{text-decoration:underline !importan'\n",
      " b't}a.gb1,a.gb4{color:#00c !important}.gbi .gb4{color:#dd8e27 !important}.gbf '\n",
      " b'.gb4{color:#900 !important}\\n</style><style>body,td,a,p,.h{font-family:ar'\n",
      " b'ial,sans-serif}body{margin:0;overflow-y:scroll}#gog{padding:3px 8px 0}td{lin'\n",
      " b'e-height:.8em}.gac_m td{line-height:17px}form{margin-bottom:20px}.h{color:#1'\n",
      " b'558d6}em{font-weight:bold;font-style:normal}.lst{height:25px;width:496px}.gs'\n",
      " b'fi,.lst{font:18px arial,sans-serif}.gsfs{font:17px arial,sans-serif}.ds{disp'\n",
      " b'lay:inline-box;display:inline-block;margin:3px 0 4px;margin-left:4px}input{f'\n",
      " b'ont-family:inherit}body{background:#fff;color:#000}a{color:#4b11a8;text-deco'\n",
      " b'ration:none}a:hover,a:active{text-decoration:underline}.fl a{color:#1558d6}a'\n",
      " b':visited{color:#4b11a8}.sblc{padding-top:5px}.sblc a{display:block;margin:2p'\n",
      " b'x 0;margin-left:13px;font-size:11px}.lsbb{background:#f8f9fa;border:solid 1p'\n",
      " b'x;border-color:#dadce0 #70757a #70757a #dadce0;height:30px}.lsbb{display:blo'\n",
      " b'ck}#WqQANb a{display:inline-block;margin:0 12px}.lsb{background:url(/images/'\n",
      " b'nav_logo229.png) 0 -261px repeat-x;border:none;color:#000;cursor:pointer;hei'\n",
      " b'ght:30px;margin:0;outline:0;font:15px arial,sans-serif;vertical-align:top}.l'\n",
      " b'sb:active{background:#dadce0}.lst:focus{outline:none}.Ucigb{width:458px}</st'\n",
      " b'yle><script nonce=\"QQBr-mCVlTg-azSQpMvzWg\">(function(){window.google.erd={js'\n",
      " b'r:1,bv:1724,de:true};\\nvar h=this||self;var k,l=null!=(k=h.mei)?k:1,n,p=n'\n",
      " b'ull!=(n=h.sdo)?n:!0,q=0,r,t=google.erd,v=t.jsr;google.ml=function(a,b,d,m,e)'\n",
      " b'{e=void 0===e?2:e;b&&(r=a&&a.message);if(google.dl)return google.dl(a,e,d),n'\n",
      " b'ull;if(0>v){window.console&&console.error(a,d);if(-2===v)throw a;b=!1}else b'\n",
      " b'=!a||!a.message||\"Error loading script\"===a.message||q>=l&&!m?!1:!0;if(!b)re'\n",
      " b'turn null;q++;d=d||{};b=encodeURIComponent;var c=\"/gen_204?atyp=i&ei=\"+b(goo'\n",
      " b'gle.kEI);google.kEXPI&&(c+=\"&jexpid=\"+b(google.kEXPI));c+=\"&srcpg=\"+b(google'\n",
      " b'.sn)+\"&jsr=\"+b(t.jsr)+\"&bver=\"+b(t.bv);var f=a.lineNumber;void 0!==f&&(c+=\"&'\n",
      " b'line=\"+f);var g=\\na.fileName;g&&(0<g.indexOf(\"-extension:/\")&&(e=3),c+=\"&'\n",
      " b'script=\"+b(g),f&&g===window.location.href&&(f=document.documentElement.outer'\n",
      " b'HTML.split(\"\\\\n\")[f],c+=\"&cad=\"+b(f?f.substring(0,300):\"No script found.\"'\n",
      " b')));c+=\"&jsel=\"+e;for(var u in d)c+=\"&\",c+=b(u),c+=\"=\",c+=b(d[u]);c=c+\"&emsg'\n",
      " b'=\"+b(a.name+\": \"+a.message);c=c+\"&jsst=\"+b(a.stack||\"N/A\");12288<=c.length&&'\n",
      " b'(c=c.substr(0,12288));a=c;m||google.log(0,\"\",a);return a};window.onerror=fun'\n",
      " b'ction(a,b,d,m,e){r!==a&&(a=e instanceof Error?e:Error(a),void 0===d||\"lineNu'\n",
      " b'mber\"in a||(a.lineNumber=d),void 0===b||\"fileName\"in a||(a.fileName=b),googl'\n",
      " b'e.ml(a,!1,void 0,!1,\"SyntaxError\"===a.name||\"SyntaxError\"===a.message.substr'\n",
      " b'ing(0,11)||-1!==a.message.indexOf(\"Script error\")?3:0));r=null;p&&q>=l&&(win'\n",
      " b'dow.onerror=null)};})();</script></head><body bgcolor=\"#fff\"><script nonce=\"'\n",
      " b'QQBr-mCVlTg-azSQpMvzWg\">(function(){var src=\\'/images/nav_logo229.png\\';va'\n",
      " b'r iesg=false;document.body.onload = function(){window.n && window.n();if (do'\n",
      " b'cument.images){new Image().src=src;}\\nif (!iesg){document.f&&document.f.q'\n",
      " b'.focus();document.gbqf&&document.gbqf.q.focus();}\\n}\\n})();</script><div i'\n",
      " b'd=\"mngb\"><div id=gbar><nobr><b class=gb1>&#1055;&#1086;&#1080;&#1089;&#1082;'\n",
      " b'</b> <a class=gb1 href=\"https://www.google.ru/imghp?hl=ru&tab=wi\">&#1050;&#1'\n",
      " b'072;&#1088;&#1090;&#1080;&#1085;&#1082;&#1080;</a> <a class=gb1 href=\"https:'\n",
      " b'//maps.google.ru/maps?hl=ru&tab=wl\">&#1050;&#1072;&#1088;&#1090;&#1099;</a> '\n",
      " b'<a class=gb1 href=\"https://play.google.com/?hl=ru&tab=w8\">Play</a> <a class='\n",
      " b'gb1 href=\"https://www.youtube.com/?tab=w1\">YouTube</a> <a class=gb1 href=\"ht'\n",
      " b'tps://news.google.com/?tab=wn\">&#1053;&#1086;&#1074;&#1086;&#1089;&#1090;&#1'\n",
      " b'080;</a> <a class=gb1 href=\"https://mail.google.com/mail/?tab=wm\">&#1055;&#1'\n",
      " b'086;&#1095;&#1090;&#1072;</a> <a class=gb1 href=\"https://drive.google.com/?t'\n",
      " b'ab=wo\">&#1044;&#1080;&#1089;&#1082;</a> <a class=gb1 style=\"text-decoration:'\n",
      " b'none\" href=\"https://www.google.ru/intl/ru/about/products?tab=wh\"><u>&#1045;&'\n",
      " b'#1097;&#1105;</u> &raquo;</a></nobr></div><div id=guser width=100%><nobr><sp'\n",
      " b'an id=gbn class=gbi></span><span id=gbf class=gbf></span><span id=gbe></span'\n",
      " b'><a href=\"http://www.google.ru/history/optout?hl=ru\" class=gb4>&#1048;&#1089'\n",
      " b';&#1090;&#1086;&#1088;&#1080;&#1103; &#1074;&#1077;&#1073;-&#1087;&#1086;&#1'\n",
      " b'080;&#1089;&#1082;&#1072;</a> | <a  href=\"/preferences?hl=ru\" class=gb4>&#10'\n",
      " b'53;&#1072;&#1089;&#1090;&#1088;&#1086;&#1081;&#1082;&#1080;</a> | <a target='\n",
      " b'_top id=gb_70 href=\"https://accounts.google.com/ServiceLogin?hl=ru&passive=t'\n",
      " b'rue&continue=https://www.google.com/&ec=GAZAAQ\" class=gb4>&#1042;&#1086;&#10'\n",
      " b'81;&#1090;&#1080;</a></nobr></div><div class=gbh style=left:0></div><div cla'\n",
      " b'ss=gbh style=right:0></div></div><center><br clear=\"all\" id=\"lgpd\"><div id=\"'\n",
      " b'lga\"><img alt=\"Google\" height=\"92\" src=\"/images/branding/googlelogo/1x/googl'\n",
      " b'elogo_white_background_color_272x92dp.png\" style=\"padding:28px 0 14px\" width'\n",
      " b'=\"272\" id=\"hplogo\"><br><br></div><form action=\"/search\" name=\"f\"><table cell'\n",
      " b'padding=\"0\" cellspacing=\"0\"><tr valign=\"top\"><td width=\"25%\">&nbsp;</td><td '\n",
      " b'align=\"center\" nowrap=\"\"><input name=\"ie\" value=\"ISO-8859-1\" type=\"hidden\"><'\n",
      " b'input value=\"ru\" name=\"hl\" type=\"hidden\"><input name=\"source\" type=\"hidden\" '\n",
      " b'value=\"hp\"><input name=\"biw\" type=\"hidden\"><input name=\"bih\" type=\"hidden\"><'\n",
      " b'div class=\"ds\" style=\"height:32px;margin:4px 0\"><div style=\"position:relativ'\n",
      " b'e;zoom:1\"><input class=\"lst Ucigb\" style=\"margin:0;padding:5px 8px 0 6px;ver'\n",
      " b'tical-align:top;color:#000;padding-right:38px\" autocomplete=\"off\" value=\"\" t'\n",
      " b'itle=\"&#1055;&#1086;&#1080;&#1089;&#1082; &#1074; Google\" maxlength=\"2048\" n'\n",
      " b'ame=\"q\" size=\"57\"><img src=\"/textinputassistant/tia.png\" style=\"position:abs'\n",
      " b'olute;cursor:pointer;right:5px;top:4px;z-index:300\" data-script-url=\"/textin'\n",
      " b'putassistant/11/ru_tia.js\" id=\"tsuid_1\" alt=\"\" height=\"23\" width=\"27\"><scrip'\n",
      " b't nonce=\"QQBr-mCVlTg-azSQpMvzWg\">(function(){var id=\\'tsuid_1\\';document.g'\n",
      " b\"etElementById(id).onclick = function(){var s = document.createElement('scrip\"\n",
      " b\"t');s.src = this.getAttribute('data-script-url');(document.getElementById('x\"\n",
      " b\"jsc')||document.body).appendChild(s);};})();</script></div></div><br sty\"\n",
      " b'le=\"line-height:0\"><span class=\"ds\"><span class=\"lsbb\"><input class=\"lsb\" va'\n",
      " b'lue=\"&#1055;&#1086;&#1080;&#1089;&#1082; &#1074; Google\" name=\"btnG\" type=\"s'\n",
      " b'ubmit\"></span></span><span class=\"ds\"><span class=\"lsbb\"><input class=\"lsb\" '\n",
      " b'id=\"tsuid_2\" value=\"&#1052;&#1085;&#1077; &#1087;&#1086;&#1074;&#1077;&#1079'\n",
      " b';&#1105;&#1090;!\" name=\"btnI\" type=\"submit\"><script nonce=\"QQBr-mCVlTg-azSQp'\n",
      " b'MvzWg\">(function(){var id=\\'tsuid_2\\';document.getElementById(id).onclick '\n",
      " b'= function(){if (this.form.q.value){this.checked = 1;if (this.form.iflsig)th'\n",
      " b\"is.form.iflsig.disabled = false;}\\nelse top.location='/doodles/';};})();<\"\n",
      " b'/script><input value=\"AK50M_UAAAAAY8gAmp5Fv0E-851viGLgRgMb-HetOBAA\" name=\"if'\n",
      " b'lsig\" type=\"hidden\"></span></span></td><td class=\"fl sblc\" align=\"left\" nowr'\n",
      " b'ap=\"\" width=\"25%\"><a href=\"/advanced_search?hl=ru&amp;authuser=0\">&#1056;&#1'\n",
      " b'072;&#1089;&#1096;&#1080;&#1088;&#1077;&#1085;&#1085;&#1099;&#1081; &#1087;&'\n",
      " b'#1086;&#1080;&#1089;&#1082;</a></td></tr></table><input id=\"gbv\" name=\"gbv\" '\n",
      " b'type=\"hidden\" value=\"1\"><script nonce=\"QQBr-mCVlTg-azSQpMvzWg\">(function(){v'\n",
      " b'ar a,b=\"1\";if(document&&document.getElementById)if(\"undefined\"!=typeof XMLHt'\n",
      " b'tpRequest)b=\"2\";else if(\"undefined\"!=typeof ActiveXObject){var c,d,e=[\"MSXML'\n",
      " b'2.XMLHTTP.6.0\",\"MSXML2.XMLHTTP.3.0\",\"MSXML2.XMLHTTP\",\"Microsoft.XMLHTTP\"];fo'\n",
      " b'r(c=0;d=e[c++];)try{new ActiveXObject(d),b=\"2\"}catch(h){}}a=b;if(\"2\"==a&&-1='\n",
      " b'=location.search.indexOf(\"&gbv=2\")){var f=google.gbvu,g=document.getElementB'\n",
      " b'yId(\"gbv\");g&&(g.value=a);f&&window.setTimeout(function(){location.href=f},0'\n",
      " b')};}).call(this);</script></form><div id=\"gac_scont\"></div><div style=\"font-'\n",
      " b'size:83%;min-height:3.5em\"><br></div><span id=\"footer\"><div style=\"font-size'\n",
      " b':10pt\"><div style=\"margin:19px auto;text-align:center\" id=\"WqQANb\"><a href=\"'\n",
      " b'http://www.google.ru/intl/ru/services/\">&#1056;&#1077;&#1096;&#1077;&#1085;&'\n",
      " b'#1080;&#1103; &#1076;&#1083;&#1103; &#1073;&#1080;&#1079;&#1085;&#1077;&#108'\n",
      " b'9;&#1072;</a><a href=\"/intl/ru/about.html\">&#1042;&#1089;&#1105; &#1086; Goo'\n",
      " b'gle</a><a href=\"https://www.google.com/setprefdomain?prefdom=RU&amp;prev=htt'\n",
      " b'ps://www.google.ru/&amp;sig=K_rsIZQI3kMSYALLQciu5LnvItauI%3D\">Google.ru</a><'\n",
      " b'/div></div><p style=\"font-size:8pt;color:#70757a\">&copy; 2023 - <a href=\"/in'\n",
      " b'tl/ru/policies/privacy/\">&#1050;&#1086;&#1085;&#1092;&#1080;&#1076;&#1077;&#'\n",
      " b'1085;&#1094;&#1080;&#1072;&#1083;&#1100;&#1085;&#1086;&#1089;&#1090;&#1100;<'\n",
      " b'/a> - <a href=\"/intl/ru/policies/terms/\">&#1059;&#1089;&#1083;&#1086;&#1074;'\n",
      " b'&#1080;&#1103;</a></p></span></center><script nonce=\"QQBr-mCVlTg-azSQpMvzWg\"'\n",
      " b'>(function(){window.google.cdo={height:757,width:1440};(function(){var a=win'\n",
      " b'dow.innerWidth,b=window.innerHeight;if(!a||!b){var c=window.document,d=\"CSS1'\n",
      " b'Compat\"==c.compatMode?c.documentElement:c.body;a=d.clientWidth;b=d.clientHei'\n",
      " b'ght}a&&b&&(a!=google.cdo.width||b!=google.cdo.height)&&google.log(\"\",\"\",\"/cl'\n",
      " b'ient_204?&atyp=i&biw=\"+a+\"&bih=\"+b+\"&ei=\"+google.kEI);}).call(this);})();</s'\n",
      " b'cript> <script nonce=\"QQBr-mCVlTg-azSQpMvzWg\">(function(){google.xjs={ck'\n",
      " b\":'xjs.hp.L0TU2uVtv08.L.X.O',cs:'ACT90oEn6OOjFhsWoiFXxDuH8sPbJRzssg',excm:[]}\"\n",
      " b';})();</script>  <script nonce=\"QQBr-mCVlTg-azSQpMvzWg\">(function(){var '\n",
      " b\"u='/xjs/_/js/k\\\\x3dxjs.hp.en.Pz92qvw7yuE.O/am\\\\x3dAADoBABQAGAB/d\\\\x3d1/ed\\\\x\"\n",
      " b\"3d1/rs\\\\x3dACT90oHKjtXYRe5o234rAS2mQifo8Cz7Rw/m\\\\x3dsb_he,d';var amd=0;\\nva\"\n",
      " b'r d=this||self,e=function(a){return a};var g;var l=function(a,b){this.g=b==='\n",
      " b'h?a:\"\"};l.prototype.toString=function(){return this.g+\"\"};var h={};\\nfunc'\n",
      " b'tion m(){var a=u;google.lx=function(){p(a);google.lx=function(){}};google.bx'\n",
      " b'||google.lx()}\\nfunction p(a){google.timers&&google.timers.load&&google.t'\n",
      " b'ick&&google.tick(\"load\",\"xjsls\");var b=document;var c=\"SCRIPT\";\"application/'\n",
      " b'xhtml+xml\"===b.contentType&&(c=c.toLowerCase());c=b.createElement(c);a=null='\n",
      " b'==a?\"null\":void 0===a?\"undefined\":a;if(void 0===g){b=null;var k=d.trustedTyp'\n",
      " b'es;if(k&&k.createPolicy){try{b=k.createPolicy(\"goog#html\",{createHTML:e,crea'\n",
      " b'teScript:e,createScriptURL:e})}catch(q){d.console&&d.console.error(q.message'\n",
      " b')}g=b}else g=b}a=(b=g)?b.createScriptURL(a):a;a=new l(a,h);c.src=\\na inst'\n",
      " b'anceof l&&a.constructor===l?a.g:\"type_error:TrustedResourceUrl\";var f,n;(f=('\n",
      " b'a=null==(n=(f=(c.ownerDocument&&c.ownerDocument.defaultView||window).documen'\n",
      " b't).querySelector)?void 0:n.call(f,\"script[nonce]\"))?a.nonce||a.getAttribute('\n",
      " b'\"nonce\")||\"\":\"\")&&c.setAttribute(\"nonce\",f);document.body.appendChild(c);goo'\n",
      " b'gle.psa=!0};google.xjsu=u;setTimeout(function(){0<amd?google.caft(function()'\n",
      " b'{return m()},amd):m()},0);})();function _DumpException(e){throw e;}\\nfunc'\n",
      " b\"tion _F_installCss(c){}\\n(function(){google.jl={blt:'none',chnk:0,dw:fals\"\n",
      " b\"e,dwu:true,emtn:0,end:0,ico:false,ikb:0,ine:false,injs:'none',injt:0,injth:0\"\n",
      " b\",injv2:false,lls:'default',pdt:0,rep:0,snet:true,strt:0,ubm:false,uwp:true};\"\n",
      " b\"})();(function(){var pmc='{\\\\x22d\\\\x22:{},\\\\x22sb_he\\\\x22:{\\\\x22agen\\\\x22:\"\n",
      " b'true,\\\\x22cgen\\\\x22:true,\\\\x22client\\\\x22:\\\\x22heirloom-hp\\\\x22,\\\\x22dh\\\\x22'\n",
      " b':true,\\\\x22ds\\\\x22:\\\\x22\\\\x22,\\\\x22fl\\\\x22:true,\\\\x22host\\\\x22:\\\\x22googl'\n",
      " b'e.com\\\\x22,\\\\x22jsonp\\\\x22:true,\\\\x22msgs\\\\x22:{\\\\x22cibl\\\\x22:\\\\x22&#1059;&'\n",
      " b'#1076;&#1072;&#1083;&#1080;&#1090;&#1100; &#1087;&#1086;&#1080;&#1089;&#1082'\n",
      " b';&#1086;&#1074;&#1099;&#1081; &#1079;&#1072;&#1087;&#1088;&#1086;&#1089;'\n",
      " b'\\\\x22,\\\\x22dym\\\\x22:\\\\x22&#1042;&#1086;&#1079;&#1084;&#1086;&#1078;&#1085;&#'\n",
      " b'1086;, &#1074;&#1099; &#1080;&#1084;&#1077;&#1083;&#1080; &#1074; &#1074;&#1'\n",
      " b'080;&#1076;&#1091;:\\\\x22,\\\\x22lcky\\\\x22:\\\\x22&#1052;&#1085;&#1077; &#1087;&#'\n",
      " b'1086;&#1074;&#1077;&#1079;&#1105;&#1090;!\\\\x22,\\\\x22lml\\\\x22:\\\\x22&#1055;&#1'\n",
      " b'086;&#1076;&#1088;&#1086;&#1073;&#1085;&#1077;&#1077;...\\\\x22,\\\\x22psrc\\\\x2'\n",
      " b'2:\\\\x22&#1069;&#1090;&#1086;&#1090; &#1079;&#1072;&#1087;&#1088;&#1086;&#'\n",
      " b'1089; &#1073;&#1099;&#1083; &#1091;&#1076;&#1072;&#1083;&#1077;&#1085; &#108'\n",
      " b'0;&#1079; &#1074;&#1072;&#1096;&#1077;&#1081; \\\\\\\\u003Ca href\\\\x3d\\\\\\\\\\\\x2'\n",
      " b'2/history\\\\\\\\\\\\x22\\\\\\\\u003E&#1080;&#1089;&#1090;&#1086;&#1088;&#1080;&#10'\n",
      " b'80; &#1074;&#1077;&#1073;-&#1087;&#1086;&#1080;&#1089;&#1082;&#1072;\\\\\\\\u0'\n",
      " b'03C/a\\\\\\\\u003E\\\\x22,\\\\x22psrl\\\\x22:\\\\x22&#1059;&#1076;&#1072;&#1083;&#1080'\n",
      " b';&#1090;&#1100;\\\\x22,\\\\x22sbit\\\\x22:\\\\x22&#1055;&#1086;&#1080;&#1089;&#1082;'\n",
      " b' &#1087;&#1086; &#1082;&#1072;&#1088;&#1090;&#1080;&#1085;&#1082;&#1077;'\n",
      " b'\\\\x22,\\\\x22srch\\\\x22:\\\\x22&#1055;&#1086;&#1080;&#1089;&#1082; &#1074; Google'\n",
      " b'\\\\x22},\\\\x22ovr\\\\x22:{},\\\\x22pq\\\\x22:\\\\x22\\\\x22,\\\\x22rfs\\\\x22:[],\\\\x22sbas'\n",
      " b'\\\\x22:\\\\x220 3px 8px 0 rgba(0,0,0,0.2),0 0 0 1px rgba(0,0,0,0.08)\\\\x22,\\\\x22'\n",
      " b\"stok\\\\x22:\\\\x22Ps9gPYF8yBkqDBWY9u4xl3jjLNg\\\\x22}}';google.pmc=JSON.parse(pm\"\n",
      " b'c);})();</script>        </body></html>')\n"
     ]
    }
   ],
   "source": [
    "pprint(resp_data)"
   ]
  },
  {
   "cell_type": "code",
   "execution_count": null,
   "id": "67995174",
   "metadata": {},
   "outputs": [],
   "source": []
  }
 ],
 "metadata": {
  "kernelspec": {
   "display_name": "Python 3 (ipykernel)",
   "language": "python",
   "name": "python3"
  },
  "language_info": {
   "codemirror_mode": {
    "name": "ipython",
    "version": 3
   },
   "file_extension": ".py",
   "mimetype": "text/x-python",
   "name": "python",
   "nbconvert_exporter": "python",
   "pygments_lexer": "ipython3",
   "version": "3.9.12"
  }
 },
 "nbformat": 4,
 "nbformat_minor": 5
}

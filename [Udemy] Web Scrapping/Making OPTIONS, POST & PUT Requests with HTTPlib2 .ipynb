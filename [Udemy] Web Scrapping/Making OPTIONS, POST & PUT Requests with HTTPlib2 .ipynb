{
 "cells": [
  {
   "cell_type": "code",
   "execution_count": 1,
   "id": "b9170e62",
   "metadata": {},
   "outputs": [],
   "source": [
    "import httplib2\n",
    "import webbrowser\n",
    "\n",
    "from pprint import pprint"
   ]
  },
  {
   "cell_type": "code",
   "execution_count": 2,
   "id": "8e6aff7d",
   "metadata": {},
   "outputs": [],
   "source": [
    "bin_url = 'https://httpbin.org/'"
   ]
  },
  {
   "cell_type": "code",
   "execution_count": 3,
   "id": "40d671f6",
   "metadata": {},
   "outputs": [],
   "source": [
    "http = httplib2.Http()"
   ]
  },
  {
   "cell_type": "code",
   "execution_count": 12,
   "id": "49debec5",
   "metadata": {},
   "outputs": [
    {
     "name": "stdout",
     "output_type": "stream",
     "text": [
      "{'access-control-allow-credentials': 'true',\n",
      " 'access-control-allow-methods': 'GET, POST, PUT, DELETE, PATCH, OPTIONS',\n",
      " 'access-control-allow-origin': '*',\n",
      " 'access-control-max-age': '3600',\n",
      " 'allow': 'HEAD, OPTIONS, GET',\n",
      " 'connection': 'keep-alive',\n",
      " 'content-length': '0',\n",
      " 'content-location': 'https://httpbin.org/',\n",
      " 'content-type': 'text/html; charset=utf-8',\n",
      " 'date': 'Wed, 18 Jan 2023 13:37:41 GMT',\n",
      " 'server': 'gunicorn/19.9.0',\n",
      " 'status': '200'}\n"
     ]
    }
   ],
   "source": [
    "resp, data = http.request(bin_url, method='OPTIONS')\n",
    "pprint(resp)"
   ]
  },
  {
   "cell_type": "code",
   "execution_count": 13,
   "id": "7c146aa0",
   "metadata": {},
   "outputs": [
    {
     "name": "stdout",
     "output_type": "stream",
     "text": [
      "{'access-control-allow-credentials': 'true',\n",
      " 'access-control-allow-origin': '*',\n",
      " 'connection': 'keep-alive',\n",
      " 'content-length': '290',\n",
      " 'content-location': 'https://httpbin.org/get',\n",
      " 'content-type': 'application/json',\n",
      " 'date': 'Wed, 18 Jan 2023 13:37:43 GMT',\n",
      " 'server': 'gunicorn/19.9.0',\n",
      " 'status': '200'}\n"
     ]
    }
   ],
   "source": [
    "resp, data = http.request('https://httpbin.org/get', method='GET')\n",
    "pprint(resp)"
   ]
  },
  {
   "cell_type": "code",
   "execution_count": 14,
   "id": "00cd10ac",
   "metadata": {},
   "outputs": [],
   "source": [
    "post_data = '{\"name\":\"Dasha\", \"college\":\"None\"}'\n",
    "\n",
    "resp, data = http.request('https://httpbin.org/post', method='POST', body = post_data, headers={'content_type':'application/json'})"
   ]
  },
  {
   "cell_type": "code",
   "execution_count": 15,
   "id": "b6868513",
   "metadata": {},
   "outputs": [
    {
     "name": "stdout",
     "output_type": "stream",
     "text": [
      "{'access-control-allow-credentials': 'true',\n",
      " 'access-control-allow-origin': '*',\n",
      " 'connection': 'keep-alive',\n",
      " 'content-length': '470',\n",
      " 'content-type': 'application/json',\n",
      " 'date': 'Wed, 18 Jan 2023 13:37:43 GMT',\n",
      " 'server': 'gunicorn/19.9.0',\n",
      " 'status': '200'}\n"
     ]
    }
   ],
   "source": [
    "pprint(resp)"
   ]
  },
  {
   "cell_type": "code",
   "execution_count": 16,
   "id": "91caebe7",
   "metadata": {},
   "outputs": [
    {
     "name": "stdout",
     "output_type": "stream",
     "text": [
      "('{\\n'\n",
      " '  \"args\": {}, \\n'\n",
      " '  \"data\": \"{\\\\\"name\\\\\":\\\\\"Dasha\\\\\", \\\\\"college\\\\\":\\\\\"None\\\\\"}\", \\n'\n",
      " '  \"files\": {}, \\n'\n",
      " '  \"form\": {}, \\n'\n",
      " '  \"headers\": {\\n'\n",
      " '    \"Accept-Encoding\": \"gzip, deflate\", \\n'\n",
      " '    \"Content-Length\": \"34\", \\n'\n",
      " '    \"Host\": \"httpbin.org\", \\n'\n",
      " '    \"User-Agent\": \"Python-httplib2/0.21.0 (gzip)\", \\n'\n",
      " '    \"X-Amzn-Trace-Id\": \"Root=1-63c7f627-7ef3675043f1f92d2c9d739f\"\\n'\n",
      " '  }, \\n'\n",
      " '  \"json\": {\\n'\n",
      " '    \"college\": \"None\", \\n'\n",
      " '    \"name\": \"Dasha\"\\n'\n",
      " '  }, \\n'\n",
      " '  \"origin\": \"185.15.62.6\", \\n'\n",
      " '  \"url\": \"https://httpbin.org/post\"\\n'\n",
      " '}\\n')\n"
     ]
    }
   ],
   "source": [
    "pprint(data.decode('utf-8'))"
   ]
  },
  {
   "cell_type": "code",
   "execution_count": 17,
   "id": "1305ff85",
   "metadata": {},
   "outputs": [
    {
     "name": "stdout",
     "output_type": "stream",
     "text": [
      "{'access-control-allow-credentials': 'true',\n",
      " 'access-control-allow-origin': '*',\n",
      " 'connection': 'keep-alive',\n",
      " 'content-length': '469',\n",
      " 'content-type': 'application/json',\n",
      " 'date': 'Wed, 18 Jan 2023 13:39:16 GMT',\n",
      " 'server': 'gunicorn/19.9.0',\n",
      " 'status': '200'}\n"
     ]
    }
   ],
   "source": [
    "post_data = '{\"name\":\"Dasha\", \"college\":\"None\"}'\n",
    "\n",
    "resp, data = http.request('https://httpbin.org/put', method='PUT', body = post_data, headers={'content_type':'application/json'})\n",
    "\n",
    "pprint(resp)"
   ]
  },
  {
   "cell_type": "code",
   "execution_count": null,
   "id": "b5183580",
   "metadata": {},
   "outputs": [],
   "source": []
  }
 ],
 "metadata": {
  "kernelspec": {
   "display_name": "Python 3 (ipykernel)",
   "language": "python",
   "name": "python3"
  },
  "language_info": {
   "codemirror_mode": {
    "name": "ipython",
    "version": 3
   },
   "file_extension": ".py",
   "mimetype": "text/x-python",
   "name": "python",
   "nbconvert_exporter": "python",
   "pygments_lexer": "ipython3",
   "version": "3.9.12"
  }
 },
 "nbformat": 4,
 "nbformat_minor": 5
}

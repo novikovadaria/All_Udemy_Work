{
 "cells": [
  {
   "cell_type": "code",
   "execution_count": 23,
   "id": "4fbae9c5",
   "metadata": {},
   "outputs": [],
   "source": [
    "import sklearn\n",
    "import numpy as np\n",
    "import scipy as sp\n",
    "import pandas as pd\n",
    "\n",
    "from sklearn.datasets import fetch_20newsgroups\n",
    "from sklearn.datasets import load_boston\n",
    "from sklearn.datasets import load_digits"
   ]
  },
  {
   "cell_type": "code",
   "execution_count": 24,
   "id": "54280d2c",
   "metadata": {},
   "outputs": [
    {
     "data": {
      "text/plain": [
       "dict_keys(['data', 'target', 'feature_names', 'DESCR', 'filename', 'data_module'])"
      ]
     },
     "execution_count": 24,
     "metadata": {},
     "output_type": "execute_result"
    }
   ],
   "source": [
    "boston_dataset = load_boston()\n",
    "boston_dataset.keys()"
   ]
  },
  {
   "cell_type": "code",
   "execution_count": 25,
   "id": "cd2faf1c",
   "metadata": {},
   "outputs": [
    {
     "name": "stdout",
     "output_type": "stream",
     "text": [
      ".. _boston_dataset:\n",
      "\n",
      "Boston house prices dataset\n",
      "---------------------------\n",
      "\n",
      "**Data Set Characteristics:**  \n",
      "\n",
      "    :Number of Instances: 506 \n",
      "\n",
      "    :Number of Attributes: 13 numeric/categorical predictive. Median Value (attribute 14) is usually the target.\n",
      "\n",
      "    :Attribute Information (in order):\n",
      "        - CRIM     per capita crime rate by town\n",
      "        - ZN       proportion of residential land zoned for lots over 25,000 sq.ft.\n",
      "        - INDUS    proportion of non-retail business acres per town\n",
      "        - CHAS     Charles River dummy variable (= 1 if tract bounds river; 0 otherwise)\n",
      "        - NOX      nitric oxides concentration (parts per 10 million)\n",
      "        - RM       average number of rooms per dwelling\n",
      "        - AGE      proportion of owner-occupied units built prior to 1940\n",
      "        - DIS      weighted distances to five Boston employment centres\n",
      "        - RAD      index of accessibility to radial highways\n",
      "        - TAX      full-value property-tax rate per $10,000\n",
      "        - PTRATIO  pupil-teacher ratio by town\n",
      "        - B        1000(Bk - 0.63)^2 where Bk is the proportion of black people by town\n",
      "        - LSTAT    % lower status of the population\n",
      "        - MEDV     Median value of owner-occupied homes in $1000's\n",
      "\n",
      "    :Missing Attribute Values: None\n",
      "\n",
      "    :Creator: Harrison, D. and Rubinfeld, D.L.\n",
      "\n",
      "This is a copy of UCI ML housing dataset.\n",
      "https://archive.ics.uci.edu/ml/machine-learning-databases/housing/\n",
      "\n",
      "\n",
      "This dataset was taken from the StatLib library which is maintained at Carnegie Mellon University.\n",
      "\n",
      "The Boston house-price data of Harrison, D. and Rubinfeld, D.L. 'Hedonic\n",
      "prices and the demand for clean air', J. Environ. Economics & Management,\n",
      "vol.5, 81-102, 1978.   Used in Belsley, Kuh & Welsch, 'Regression diagnostics\n",
      "...', Wiley, 1980.   N.B. Various transformations are used in the table on\n",
      "pages 244-261 of the latter.\n",
      "\n",
      "The Boston house-price data has been used in many machine learning papers that address regression\n",
      "problems.   \n",
      "     \n",
      ".. topic:: References\n",
      "\n",
      "   - Belsley, Kuh & Welsch, 'Regression diagnostics: Identifying Influential Data and Sources of Collinearity', Wiley, 1980. 244-261.\n",
      "   - Quinlan,R. (1993). Combining Instance-Based and Model-Based Learning. In Proceedings on the Tenth International Conference of Machine Learning, 236-243, University of Massachusetts, Amherst. Morgan Kaufmann.\n",
      "\n"
     ]
    }
   ],
   "source": [
    "print(boston_dataset.DESCR)"
   ]
  },
  {
   "cell_type": "code",
   "execution_count": 26,
   "id": "956dc1db",
   "metadata": {},
   "outputs": [
    {
     "data": {
      "text/plain": [
       "array(['CRIM', 'ZN', 'INDUS', 'CHAS', 'NOX', 'RM', 'AGE', 'DIS', 'RAD',\n",
       "       'TAX', 'PTRATIO', 'B', 'LSTAT'], dtype='<U7')"
      ]
     },
     "execution_count": 26,
     "metadata": {},
     "output_type": "execute_result"
    }
   ],
   "source": [
    "boston_dataset.feature_names"
   ]
  },
  {
   "cell_type": "code",
   "execution_count": 27,
   "id": "c3954ba0",
   "metadata": {},
   "outputs": [
    {
     "data": {
      "text/plain": [
       "(506, 13)"
      ]
     },
     "execution_count": 27,
     "metadata": {},
     "output_type": "execute_result"
    }
   ],
   "source": [
    "boston_dataset.data.shape"
   ]
  },
  {
   "cell_type": "code",
   "execution_count": 28,
   "id": "3965c9e2",
   "metadata": {},
   "outputs": [
    {
     "data": {
      "text/plain": [
       "(506,)"
      ]
     },
     "execution_count": 28,
     "metadata": {},
     "output_type": "execute_result"
    }
   ],
   "source": [
    "boston_dataset.target.shape"
   ]
  },
  {
   "cell_type": "code",
   "execution_count": null,
   "id": "6b18f417",
   "metadata": {},
   "outputs": [],
   "source": []
  },
  {
   "cell_type": "code",
   "execution_count": 29,
   "id": "7b9a0226",
   "metadata": {},
   "outputs": [],
   "source": [
    "fetch_20_train = fetch_20newsgroups(subset=\"train\")"
   ]
  },
  {
   "cell_type": "code",
   "execution_count": 30,
   "id": "8fb9b256",
   "metadata": {},
   "outputs": [
    {
     "data": {
      "text/plain": [
       "dict_keys(['data', 'filenames', 'target_names', 'target', 'DESCR'])"
      ]
     },
     "execution_count": 30,
     "metadata": {},
     "output_type": "execute_result"
    }
   ],
   "source": [
    "fetch_20_train.keys()"
   ]
  },
  {
   "cell_type": "code",
   "execution_count": 31,
   "id": "41ee92f1",
   "metadata": {},
   "outputs": [
    {
     "name": "stdout",
     "output_type": "stream",
     "text": [
      ".. _20newsgroups_dataset:\n",
      "\n",
      "The 20 newsgroups text dataset\n",
      "------------------------------\n",
      "\n",
      "The 20 newsgroups dataset comprises around 18000 newsgroups posts on\n",
      "20 topics split in two subsets: one for training (or development)\n",
      "and the other one for testing (or for performance evaluation). The split\n",
      "between the train and test set is based upon a messages posted before\n",
      "and after a specific date.\n",
      "\n",
      "This module contains two loaders. The first one,\n",
      ":func:`sklearn.datasets.fetch_20newsgroups`,\n",
      "returns a list of the raw texts that can be fed to text feature\n",
      "extractors such as :class:`~sklearn.feature_extraction.text.CountVectorizer`\n",
      "with custom parameters so as to extract feature vectors.\n",
      "The second one, :func:`sklearn.datasets.fetch_20newsgroups_vectorized`,\n",
      "returns ready-to-use features, i.e., it is not necessary to use a feature\n",
      "extractor.\n",
      "\n",
      "**Data Set Characteristics:**\n",
      "\n",
      "    =================   ==========\n",
      "    Classes                     20\n",
      "    Samples total            18846\n",
      "    Dimensionality               1\n",
      "    Features                  text\n",
      "    =================   ==========\n",
      "\n",
      "Usage\n",
      "~~~~~\n",
      "\n",
      "The :func:`sklearn.datasets.fetch_20newsgroups` function is a data\n",
      "fetching / caching functions that downloads the data archive from\n",
      "the original `20 newsgroups website`_, extracts the archive contents\n",
      "in the ``~/scikit_learn_data/20news_home`` folder and calls the\n",
      ":func:`sklearn.datasets.load_files` on either the training or\n",
      "testing set folder, or both of them::\n",
      "\n",
      "  >>> from sklearn.datasets import fetch_20newsgroups\n",
      "  >>> newsgroups_train = fetch_20newsgroups(subset='train')\n",
      "\n",
      "  >>> from pprint import pprint\n",
      "  >>> pprint(list(newsgroups_train.target_names))\n",
      "  ['alt.atheism',\n",
      "   'comp.graphics',\n",
      "   'comp.os.ms-windows.misc',\n",
      "   'comp.sys.ibm.pc.hardware',\n",
      "   'comp.sys.mac.hardware',\n",
      "   'comp.windows.x',\n",
      "   'misc.forsale',\n",
      "   'rec.autos',\n",
      "   'rec.motorcycles',\n",
      "   'rec.sport.baseball',\n",
      "   'rec.sport.hockey',\n",
      "   'sci.crypt',\n",
      "   'sci.electronics',\n",
      "   'sci.med',\n",
      "   'sci.space',\n",
      "   'soc.religion.christian',\n",
      "   'talk.politics.guns',\n",
      "   'talk.politics.mideast',\n",
      "   'talk.politics.misc',\n",
      "   'talk.religion.misc']\n",
      "\n",
      "The real data lies in the ``filenames`` and ``target`` attributes. The target\n",
      "attribute is the integer index of the category::\n",
      "\n",
      "  >>> newsgroups_train.filenames.shape\n",
      "  (11314,)\n",
      "  >>> newsgroups_train.target.shape\n",
      "  (11314,)\n",
      "  >>> newsgroups_train.target[:10]\n",
      "  array([ 7,  4,  4,  1, 14, 16, 13,  3,  2,  4])\n",
      "\n",
      "It is possible to load only a sub-selection of the categories by passing the\n",
      "list of the categories to load to the\n",
      ":func:`sklearn.datasets.fetch_20newsgroups` function::\n",
      "\n",
      "  >>> cats = ['alt.atheism', 'sci.space']\n",
      "  >>> newsgroups_train = fetch_20newsgroups(subset='train', categories=cats)\n",
      "\n",
      "  >>> list(newsgroups_train.target_names)\n",
      "  ['alt.atheism', 'sci.space']\n",
      "  >>> newsgroups_train.filenames.shape\n",
      "  (1073,)\n",
      "  >>> newsgroups_train.target.shape\n",
      "  (1073,)\n",
      "  >>> newsgroups_train.target[:10]\n",
      "  array([0, 1, 1, 1, 0, 1, 1, 0, 0, 0])\n",
      "\n",
      "Converting text to vectors\n",
      "~~~~~~~~~~~~~~~~~~~~~~~~~~\n",
      "\n",
      "In order to feed predictive or clustering models with the text data,\n",
      "one first need to turn the text into vectors of numerical values suitable\n",
      "for statistical analysis. This can be achieved with the utilities of the\n",
      "``sklearn.feature_extraction.text`` as demonstrated in the following\n",
      "example that extract `TF-IDF`_ vectors of unigram tokens\n",
      "from a subset of 20news::\n",
      "\n",
      "  >>> from sklearn.feature_extraction.text import TfidfVectorizer\n",
      "  >>> categories = ['alt.atheism', 'talk.religion.misc',\n",
      "  ...               'comp.graphics', 'sci.space']\n",
      "  >>> newsgroups_train = fetch_20newsgroups(subset='train',\n",
      "  ...                                       categories=categories)\n",
      "  >>> vectorizer = TfidfVectorizer()\n",
      "  >>> vectors = vectorizer.fit_transform(newsgroups_train.data)\n",
      "  >>> vectors.shape\n",
      "  (2034, 34118)\n",
      "\n",
      "The extracted TF-IDF vectors are very sparse, with an average of 159 non-zero\n",
      "components by sample in a more than 30000-dimensional space\n",
      "(less than .5% non-zero features)::\n",
      "\n",
      "  >>> vectors.nnz / float(vectors.shape[0])\n",
      "  159.01327...\n",
      "\n",
      ":func:`sklearn.datasets.fetch_20newsgroups_vectorized` is a function which\n",
      "returns ready-to-use token counts features instead of file names.\n",
      "\n",
      ".. _`20 newsgroups website`: http://people.csail.mit.edu/jrennie/20Newsgroups/\n",
      ".. _`TF-IDF`: https://en.wikipedia.org/wiki/Tf-idf\n",
      "\n",
      "\n",
      "Filtering text for more realistic training\n",
      "~~~~~~~~~~~~~~~~~~~~~~~~~~~~~~~~~~~~~~~~~~\n",
      "\n",
      "It is easy for a classifier to overfit on particular things that appear in the\n",
      "20 Newsgroups data, such as newsgroup headers. Many classifiers achieve very\n",
      "high F-scores, but their results would not generalize to other documents that\n",
      "aren't from this window of time.\n",
      "\n",
      "For example, let's look at the results of a multinomial Naive Bayes classifier,\n",
      "which is fast to train and achieves a decent F-score::\n",
      "\n",
      "  >>> from sklearn.naive_bayes import MultinomialNB\n",
      "  >>> from sklearn import metrics\n",
      "  >>> newsgroups_test = fetch_20newsgroups(subset='test',\n",
      "  ...                                      categories=categories)\n",
      "  >>> vectors_test = vectorizer.transform(newsgroups_test.data)\n",
      "  >>> clf = MultinomialNB(alpha=.01)\n",
      "  >>> clf.fit(vectors, newsgroups_train.target)\n",
      "  MultinomialNB(alpha=0.01, class_prior=None, fit_prior=True)\n",
      "\n",
      "  >>> pred = clf.predict(vectors_test)\n",
      "  >>> metrics.f1_score(newsgroups_test.target, pred, average='macro')\n",
      "  0.88213...\n",
      "\n",
      "(The example :ref:`sphx_glr_auto_examples_text_plot_document_classification_20newsgroups.py` shuffles\n",
      "the training and test data, instead of segmenting by time, and in that case\n",
      "multinomial Naive Bayes gets a much higher F-score of 0.88. Are you suspicious\n",
      "yet of what's going on inside this classifier?)\n",
      "\n",
      "Let's take a look at what the most informative features are:\n",
      "\n",
      "  >>> import numpy as np\n",
      "  >>> def show_top10(classifier, vectorizer, categories):\n",
      "  ...     feature_names = vectorizer.get_feature_names_out()\n",
      "  ...     for i, category in enumerate(categories):\n",
      "  ...         top10 = np.argsort(classifier.coef_[i])[-10:]\n",
      "  ...         print(\"%s: %s\" % (category, \" \".join(feature_names[top10])))\n",
      "  ...\n",
      "  >>> show_top10(clf, vectorizer, newsgroups_train.target_names)\n",
      "  alt.atheism: edu it and in you that is of to the\n",
      "  comp.graphics: edu in graphics it is for and of to the\n",
      "  sci.space: edu it that is in and space to of the\n",
      "  talk.religion.misc: not it you in is that and to of the\n",
      "\n",
      "\n",
      "You can now see many things that these features have overfit to:\n",
      "\n",
      "- Almost every group is distinguished by whether headers such as\n",
      "  ``NNTP-Posting-Host:`` and ``Distribution:`` appear more or less often.\n",
      "- Another significant feature involves whether the sender is affiliated with\n",
      "  a university, as indicated either by their headers or their signature.\n",
      "- The word \"article\" is a significant feature, based on how often people quote\n",
      "  previous posts like this: \"In article [article ID], [name] <[e-mail address]>\n",
      "  wrote:\"\n",
      "- Other features match the names and e-mail addresses of particular people who\n",
      "  were posting at the time.\n",
      "\n",
      "With such an abundance of clues that distinguish newsgroups, the classifiers\n",
      "barely have to identify topics from text at all, and they all perform at the\n",
      "same high level.\n",
      "\n",
      "For this reason, the functions that load 20 Newsgroups data provide a\n",
      "parameter called **remove**, telling it what kinds of information to strip out\n",
      "of each file. **remove** should be a tuple containing any subset of\n",
      "``('headers', 'footers', 'quotes')``, telling it to remove headers, signature\n",
      "blocks, and quotation blocks respectively.\n",
      "\n",
      "  >>> newsgroups_test = fetch_20newsgroups(subset='test',\n",
      "  ...                                      remove=('headers', 'footers', 'quotes'),\n",
      "  ...                                      categories=categories)\n",
      "  >>> vectors_test = vectorizer.transform(newsgroups_test.data)\n",
      "  >>> pred = clf.predict(vectors_test)\n",
      "  >>> metrics.f1_score(pred, newsgroups_test.target, average='macro')\n",
      "  0.77310...\n",
      "\n",
      "This classifier lost over a lot of its F-score, just because we removed\n",
      "metadata that has little to do with topic classification.\n",
      "It loses even more if we also strip this metadata from the training data:\n",
      "\n",
      "  >>> newsgroups_train = fetch_20newsgroups(subset='train',\n",
      "  ...                                       remove=('headers', 'footers', 'quotes'),\n",
      "  ...                                       categories=categories)\n",
      "  >>> vectors = vectorizer.fit_transform(newsgroups_train.data)\n",
      "  >>> clf = MultinomialNB(alpha=.01)\n",
      "  >>> clf.fit(vectors, newsgroups_train.target)\n",
      "  MultinomialNB(alpha=0.01, class_prior=None, fit_prior=True)\n",
      "\n",
      "  >>> vectors_test = vectorizer.transform(newsgroups_test.data)\n",
      "  >>> pred = clf.predict(vectors_test)\n",
      "  >>> metrics.f1_score(newsgroups_test.target, pred, average='macro')\n",
      "  0.76995...\n",
      "\n",
      "Some other classifiers cope better with this harder version of the task. Try\n",
      "running :ref:`sphx_glr_auto_examples_model_selection_grid_search_text_feature_extraction.py` with and without\n",
      "the ``--filter`` option to compare the results.\n",
      "\n",
      ".. topic:: Data Considerations\n",
      "\n",
      "  The Cleveland Indians is a major league baseball team based in Cleveland,\n",
      "  Ohio, USA. In December 2020, it was reported that \"After several months of\n",
      "  discussion sparked by the death of George Floyd and a national reckoning over\n",
      "  race and colonialism, the Cleveland Indians have decided to change their\n",
      "  name.\" Team owner Paul Dolan \"did make it clear that the team will not make\n",
      "  its informal nickname -- the Tribe -- its new team name.\" \"It’s not going to\n",
      "  be a half-step away from the Indians,\" Dolan said.\"We will not have a Native\n",
      "  American-themed name.\"\n",
      "\n",
      "  https://www.mlb.com/news/cleveland-indians-team-name-change\n",
      "\n",
      ".. topic:: Recommendation\n",
      "\n",
      "  - When evaluating text classifiers on the 20 Newsgroups data, you\n",
      "    should strip newsgroup-related metadata. In scikit-learn, you can do this\n",
      "    by setting ``remove=('headers', 'footers', 'quotes')``. The F-score will be\n",
      "    lower because it is more realistic.\n",
      "  - This text dataset contains data which may be inappropriate for certain NLP\n",
      "    applications. An example is listed in the \"Data Considerations\" section\n",
      "    above. The challenge with using current text datasets in NLP for tasks such\n",
      "    as sentence completion, clustering, and other applications is that text\n",
      "    that is culturally biased and inflammatory will propagate biases. This\n",
      "    should be taken into consideration when using the dataset, reviewing the\n",
      "    output, and the bias should be documented.\n",
      "\n",
      ".. topic:: Examples\n",
      "\n",
      "   * :ref:`sphx_glr_auto_examples_model_selection_grid_search_text_feature_extraction.py`\n",
      "\n",
      "   * :ref:`sphx_glr_auto_examples_text_plot_document_classification_20newsgroups.py`\n",
      "\n"
     ]
    }
   ],
   "source": [
    "print(fetch_20_train.DESCR)"
   ]
  },
  {
   "cell_type": "code",
   "execution_count": 32,
   "id": "b5bf0616",
   "metadata": {},
   "outputs": [
    {
     "data": {
      "text/plain": [
       "[\"From: lerxst@wam.umd.edu (where's my thing)\\nSubject: WHAT car is this!?\\nNntp-Posting-Host: rac3.wam.umd.edu\\nOrganization: University of Maryland, College Park\\nLines: 15\\n\\n I was wondering if anyone out there could enlighten me on this car I saw\\nthe other day. It was a 2-door sports car, looked to be from the late 60s/\\nearly 70s. It was called a Bricklin. The doors were really small. In addition,\\nthe front bumper was separate from the rest of the body. This is \\nall I know. If anyone can tellme a model name, engine specs, years\\nof production, where this car is made, history, or whatever info you\\nhave on this funky looking car, please e-mail.\\n\\nThanks,\\n- IL\\n   ---- brought to you by your neighborhood Lerxst ----\\n\\n\\n\\n\\n\",\n",
       " \"From: guykuo@carson.u.washington.edu (Guy Kuo)\\nSubject: SI Clock Poll - Final Call\\nSummary: Final call for SI clock reports\\nKeywords: SI,acceleration,clock,upgrade\\nArticle-I.D.: shelley.1qvfo9INNc3s\\nOrganization: University of Washington\\nLines: 11\\nNNTP-Posting-Host: carson.u.washington.edu\\n\\nA fair number of brave souls who upgraded their SI clock oscillator have\\nshared their experiences for this poll. Please send a brief message detailing\\nyour experiences with the procedure. Top speed attained, CPU rated speed,\\nadd on cards and adapters, heat sinks, hour of usage per day, floppy disk\\nfunctionality with 800 and 1.4 m floppies are especially requested.\\n\\nI will be summarizing in the next two days, so please add to the network\\nknowledge base if you have done the clock upgrade and haven't answered this\\npoll. Thanks.\\n\\nGuy Kuo <guykuo@u.washington.edu>\\n\",\n",
       " 'From: twillis@ec.ecn.purdue.edu (Thomas E Willis)\\nSubject: PB questions...\\nOrganization: Purdue University Engineering Computer Network\\nDistribution: usa\\nLines: 36\\n\\nwell folks, my mac plus finally gave up the ghost this weekend after\\nstarting life as a 512k way back in 1985.  sooo, i\\'m in the market for a\\nnew machine a bit sooner than i intended to be...\\n\\ni\\'m looking into picking up a powerbook 160 or maybe 180 and have a bunch\\nof questions that (hopefully) somebody can answer:\\n\\n* does anybody know any dirt on when the next round of powerbook\\nintroductions are expected?  i\\'d heard the 185c was supposed to make an\\nappearence \"this summer\" but haven\\'t heard anymore on it - and since i\\ndon\\'t have access to macleak, i was wondering if anybody out there had\\nmore info...\\n\\n* has anybody heard rumors about price drops to the powerbook line like the\\nones the duo\\'s just went through recently?\\n\\n* what\\'s the impression of the display on the 180?  i could probably swing\\na 180 if i got the 80Mb disk rather than the 120, but i don\\'t really have\\na feel for how much \"better\" the display is (yea, it looks great in the\\nstore, but is that all \"wow\" or is it really that good?).  could i solicit\\nsome opinions of people who use the 160 and 180 day-to-day on if its worth\\ntaking the disk size and money hit to get the active display?  (i realize\\nthis is a real subjective question, but i\\'ve only played around with the\\nmachines in a computer store breifly and figured the opinions of somebody\\nwho actually uses the machine daily might prove helpful).\\n\\n* how well does hellcats perform?  ;)\\n\\nthanks a bunch in advance for any info - if you could email, i\\'ll post a\\nsummary (news reading time is at a premium with finals just around the\\ncorner... :( )\\n--\\nTom Willis  \\\\  twillis@ecn.purdue.edu    \\\\    Purdue Electrical Engineering\\n---------------------------------------------------------------------------\\n\"Convictions are more dangerous enemies of truth than lies.\"  - F. W.\\nNietzsche\\n',\n",
       " 'From: jgreen@amber (Joe Green)\\nSubject: Re: Weitek P9000 ?\\nOrganization: Harris Computer Systems Division\\nLines: 14\\nDistribution: world\\nNNTP-Posting-Host: amber.ssd.csd.harris.com\\nX-Newsreader: TIN [version 1.1 PL9]\\n\\nRobert J.C. Kyanko (rob@rjck.UUCP) wrote:\\n> abraxis@iastate.edu writes in article <abraxis.734340159@class1.iastate.edu>:\\n> > Anyone know about the Weitek P9000 graphics chip?\\n> As far as the low-level stuff goes, it looks pretty nice.  It\\'s got this\\n> quadrilateral fill command that requires just the four points.\\n\\nDo you have Weitek\\'s address/phone number?  I\\'d like to get some information\\nabout this chip.\\n\\n--\\nJoe Green\\t\\t\\t\\tHarris Corporation\\njgreen@csd.harris.com\\t\\t\\tComputer Systems Division\\n\"The only thing that really scares me is a person with no sense of humor.\"\\n\\t\\t\\t\\t\\t\\t-- Jonathan Winters\\n',\n",
       " 'From: jcm@head-cfa.harvard.edu (Jonathan McDowell)\\nSubject: Re: Shuttle Launch Question\\nOrganization: Smithsonian Astrophysical Observatory, Cambridge, MA,  USA\\nDistribution: sci\\nLines: 23\\n\\nFrom article <C5owCB.n3p@world.std.com>, by tombaker@world.std.com (Tom A Baker):\\n>>In article <C5JLwx.4H9.1@cs.cmu.edu>, ETRAT@ttacs1.ttu.edu (Pack Rat) writes...\\n>>>\"Clear caution & warning memory.  Verify no unexpected\\n>>>errors. ...\".  I am wondering what an \"expected error\" might\\n>>>be.  Sorry if this is a really dumb question, but\\n> \\n> Parity errors in memory or previously known conditions that were waivered.\\n>    \"Yes that is an error, but we already knew about it\"\\n> I\\'d be curious as to what the real meaning of the quote is.\\n> \\n> tom\\n\\n\\nMy understanding is that the \\'expected errors\\' are basically\\nknown bugs in the warning system software - things are checked\\nthat don\\'t have the right values in yet because they aren\\'t\\nset till after launch, and suchlike. Rather than fix the code\\nand possibly introduce new bugs, they just tell the crew\\n\\'ok, if you see a warning no. 213 before liftoff, ignore it\\'.\\n\\n - Jonathan\\n\\n\\n',\n",
       " 'From: dfo@vttoulu.tko.vtt.fi (Foxvog Douglas)\\nSubject: Re: Rewording the Second Amendment (ideas)\\nOrganization: VTT\\nLines: 58\\n\\nIn article <1r1eu1$4t@transfer.stratus.com> cdt@sw.stratus.com (C. D. Tavares) writes:\\n>In article <1993Apr20.083057.16899@ousrvr.oulu.fi>, dfo@vttoulu.tko.vtt.fi (Foxvog Douglas) writes:\\n>> In article <1qv87v$4j3@transfer.stratus.com> cdt@sw.stratus.com (C. D. Tavares) writes:\\n>> >In article <C5n3GI.F8F@ulowell.ulowell.edu>, jrutledg@cs.ulowell.edu (John Lawrence Rutledge) writes:\\n>\\n>> >> The massive destructive power of many modern weapons, makes the\\n>> >> cost of an accidental or crimial usage of these weapons to great.\\n>> >> The weapons of mass destruction need to be in the control of\\n>> >> the government only.  Individual access would result in the\\n>> >> needless deaths of millions.  This makes the right of the people\\n>> >> to keep and bear many modern weapons non-existant.\\n\\n>> >Thanks for stating where you\\'re coming from.  Needless to say, I\\n>> >disagree on every count.\\n\\n>> You believe that individuals should have the right to own weapons of\\n>> mass destruction?  I find it hard to believe that you would support a \\n>> neighbor\\'s right to keep nuclear weapons, biological weapons, and nerve\\n>> gas on his/her property.  \\n\\n>> If we cannot even agree on keeping weapons of mass destruction out of\\n>> the hands of individuals, can there be any hope for us?\\n\\n>I don\\'t sign any blank checks.\\n\\nOf course.  The term must be rigidly defined in any bill.\\n\\n>When Doug Foxvog says \"weapons of mass destruction,\" he means CBW and\\n>nukes.  When Sarah Brady says \"weapons of mass destruction\" she means\\n>Street Sweeper shotguns and semi-automatic SKS rifles.  \\n\\nI doubt she uses this term for that.  You are using a quote allegedly\\nfrom her, can you back it up?\\n\\n>When John\\n>Lawrence Rutledge says \"weapons of mass destruction,\" and then immediately\\n>follows it with:\\n\\n>>> The US has thousands of people killed each year by handguns,\\n>>> this number can easily be reduced by putting reasonable restrictions\\n>>> on them.\\n\\n>...what does Rutledge mean by the term?\\n\\nI read the article as presenting first an argument about weapons of mass\\ndestruction (as commonly understood) and then switching to other topics.\\nThe first point evidently was to show that not all weapons should be\\nallowed, and then the later analysis was, given this understanding, to\\nconsider another class.\\n\\n>cdt@rocket.sw.stratus.com   --If you believe that I speak for my company,\\n>OR cdt@vos.stratus.com        write today for my special Investors\\' Packet...\\n\\n\\n\\n-- \\ndoug foxvog\\ndouglas.foxvog@vtt.fi\\n',\n",
       " 'From: bmdelane@quads.uchicago.edu (brian manning delaney)\\nSubject: Brain Tumor Treatment (thanks)\\nReply-To: bmdelane@midway.uchicago.edu\\nOrganization: University of Chicago\\nLines: 12\\n\\nThere were a few people who responded to my request for info on\\ntreatment for astrocytomas through email, whom I couldn\\'t thank\\ndirectly because of mail-bouncing probs (Sean, Debra, and Sharon).  So\\nI thought I\\'d publicly thank everyone.\\n\\nThanks! \\n\\n(I\\'m sure glad I accidentally hit \"rn\" instead of \"rm\" when I was\\ntrying to delete a file last September. \"Hmmm... \\'News?\\' What\\'s\\nthis?\"....)\\n\\n-Brian\\n',\n",
       " 'From: bgrubb@dante.nmsu.edu (GRUBB)\\nSubject: Re: IDE vs SCSI\\nOrganization: New Mexico State University, Las Cruces, NM\\nLines: 44\\nDistribution: world\\nNNTP-Posting-Host: dante.nmsu.edu\\n\\nDXB132@psuvm.psu.edu writes:\\n>In article <1qlbrlINN7rk@dns1.NMSU.Edu>, bgrubb@dante.nmsu.edu (GRUBB) says:\\n>>In PC Magazine April 27, 1993:29 \"Although SCSI is twice as fasst as ESDI,\\n>>20% faster than IDE, and support up to 7 devices its acceptance ...has   \\n>>long been stalled by incompatability problems and installation headaches.\"\\n                                                                      \\n>I love it when magazine writers make stupid statements like that re:      \\n>performance. Where do they get those numbers? I\\'ll list the actual\\n>performance ranges, which should convince anyone that such a               \\n>statement is absurd:                                                     \\n>SCSI-I ranges from 0-5MB/s.                                                \\n>SCSI-II ranges from 0-40MB/s.            \\n>IDE ranges from 0-8.3MB/s.                          \\n>ESDI is always 1.25MB/s (although there are some non-standard versions)\\nALL this shows is that YOU don\\'t know much about SCSI.\\n\\nSCSI-1 {with a SCSI-1 controler chip} range is indeed 0-5MB/s\\nand that is ALL you have right about SCSI\\nSCSI-1 {With a SCSI-2 controller chip}: 4-6MB/s with 10MB/s burst {8-bit}\\n Note the INCREASE in SPEED, the Mac Quadra uses this version of SCSI-1\\n so it DOES exist. Some PC use this set up too.\\nSCSI-2 {8-bit/SCSI-1 mode}:          4-6MB/s with 10MB/s burst\\nSCSI-2 {16-bit/wide or fast mode}:  8-12MB/s with 20MB/s burst\\nSCSI-2 {32-bit/wide AND fast}:     15-20MB/s with 40MB/s burst\\n \\nBy your OWN data the \"Although SCSI is twice as fast as ESDI\" is correct\\nWith a SCSI-2 controller chip SCSI-1 can reach 10MB/s which is indeed\\n\"20% faster than IDE\" {120% of 8.3 is 9.96}. ALL these SCSI facts have been\\nposted to this newsgroup in my Mac & IBM info sheet {available by FTP on \\nsumex-aim.stanford.edu (36.44.0.6) in the info-mac/report as \\nmac-ibm-compare[version #].txt (It should be 173 but 161 may still be there)}\\n\\nPart of this problem is both Mac and IBM PC are inconsiant about what SCSI\\nis which.  Though it is WELL documented that the Quadra has a SCSI-2 chip\\nan Apple salesperson said \"it uses a fast SCSI-1 chip\" {Not at a 6MB/s,\\n10MB/s burst it does not. SCSI-1 is 5MB/s maximum synchronous and Quadra\\nuses ANsynchronous SCSI which is SLOWER}  It seems that Mac and IBM see\\nSCSI-1 interface and think \\'SCSI-1\\' when it maybe a SCSI-1 interface driven\\nin the machine by a SCSi-2 controller chip in 8-bit mode {Which is MUCH\\nFASTER then true SCSI-1 can go}.\\n\\nDon\\'t slam an article because you don\\'t understand what is going on.\\nOne reference for the Quadra\\'s SCSI-2 controller chip is \\n(Digital Review, Oct 21, 1991 v8 n33 p8(1)).\\n',\n",
       " 'From: holmes7000@iscsvax.uni.edu\\nSubject: WIn 3.0 ICON HELP PLEASE!\\nOrganization: University of Northern Iowa\\nLines: 10\\n\\nI have win 3.0 and downloaded several icons and BMP\\'s but I can\\'t figure out\\nhow to change the \"wallpaper\" or use the icons.  Any help would be appreciated.\\n\\n\\nThanx,\\n\\n-Brando\\n\\nPS Please E-mail me\\n\\n',\n",
       " \"From: kerr@ux1.cso.uiuc.edu (Stan Kerr)\\nSubject: Re: Sigma Designs Double up??\\nArticle-I.D.: ux1.C52u8x.B62\\nOrganization: University of Illinois at Urbana\\nLines: 29\\n\\njap10@po.CWRU.Edu (Joseph A. Pellettiere) writes:\\n\\n\\n>\\tI am looking for any information about the Sigma Designs\\n>\\tdouble up board.  All I can figure out is that it is a\\n>\\thardware compression board that works with AutoDoubler, but\\n>\\tI am not sure about this.  Also how much would one cost?\\n\\nI've had the board for over a year, and it does work with Diskdoubler,\\nbut not with Autodoubler, due to a licensing problem with Stac Technologies,\\nthe owners of the board's compression technology. (I'm writing this\\nfrom memory; I've lost the reference. Please correct me if I'm wrong.)\\n\\nUsing the board, I've had problems with file icons being lost, but it's\\nhard to say whether it's the board's fault or something else; however,\\nif I decompress the troubled file and recompress it without the board,\\nthe icon usually reappears. Because of the above mentioned licensing\\nproblem, the freeware expansion utility DD Expand will not decompress\\na board-compressed file unless you have the board installed.\\n\\nSince Stac has its own product now, it seems unlikely that the holes\\nin Autodoubler/Diskdoubler related to the board will be fixed.\\nWhich is sad, and makes me very reluctant to buy Stac's product since\\nthey're being so stinky. (But hey, that's competition.)\\n-- \\n\\nStan Kerr    \\nComputing & Communications Services Office, U of Illinois/Urbana\\nPhone: 217-333-5217  Email: stankerr@uiuc.edu   \\n\",\n",
       " 'From: irwin@cmptrc.lonestar.org (Irwin Arnstein)\\nSubject: Re: Recommendation on Duc\\nSummary: What\\'s it worth?\\nDistribution: usa\\nExpires: Sat, 1 May 1993 05:00:00 GMT\\nOrganization: CompuTrac Inc., Richardson TX\\nKeywords: Ducati, GTS, How much? \\nLines: 13\\n\\nI have a line on a Ducati 900GTS 1978 model with 17k on the clock.  Runs\\nvery well, paint is the bronze/brown/orange faded out, leaks a bit of oil\\nand pops out of 1st with hard accel.  The shop will fix trans and oil \\nleak.  They sold the bike to the 1 and only owner.  They want $3495, and\\nI am thinking more like $3K.  Any opinions out there?  Please email me.\\nThanks.  It would be a nice stable mate to the Beemer.  Then I\\'ll get\\na jap bike and call myself Axis Motors!\\n\\n-- \\n-----------------------------------------------------------------------\\n\"Tuba\" (Irwin)      \"I honk therefore I am\"     CompuTrac-Richardson,Tx\\nirwin@cmptrc.lonestar.org    DoD #0826          (R75/6)\\n-----------------------------------------------------------------------\\n',\n",
       " 'From: david@terminus.ericsson.se (David Bold)\\nSubject: Re: Question for those with popular morality\\nReply-To: david@terminus.ericsson.se\\nDistribution: world\\nOrganization: Camtec Electronics (Ericsson), Leicester, England\\nLines: 77\\nNntp-Posting-Host: bangkok\\n\\nIn article 17570@freenet.carleton.ca, ad354@Freenet.carleton.ca (James Owens) writes:\\n>\\n>In a previous article, david@terminus.ericsson.se (David Bold) says:\\n>\\n>>\\n>>I don\\'t mean to be rude, but I think that you\\'ve got hold of the wrong\\n>>end of a different stick...\\n>>\\n>>David\\n>\\n>I had a look at your posting again and I see what you mean!  I was so\\n>intent on explaining how Jung thought we could be more moral than God that\\n>I overlooked your main line of thought.\\n>\\n>You seem to be saying that, God being unknowable, His morality is unknowable.\\n\\nYep, that\\'s pretty much it. I\\'m not a Jew but I understand that this is the\\nJewish way of thinking. However, the Jews believe that the Covenant between\\nYHWH and the Patriarchs (Abraham and Moses, in this case) establishes a Moral\\nCode to follow for mankind. Even the Jews could not decide where the boundaries\\nfall, though.\\n\\nAs I understand it, the Sadducees believed that the Torah was all that was\\nrequired, whereas the Pharisees (the ancestors of modern Judaism) believed that\\nthe Torah was available for interpretation to lead to an understanding of\\nthe required Morality in all its nuances (->Talmud).\\n\\nThe essence of all of this is that Biblical Morality is an interface between\\nMan and YHWH (for a Jew or Christian) and does not necessarily indicate\\nanything about YHWH outside of that relationship (although one can speculate).\\n\\n>\\n>The first thing that comes to mind is that man is supposed to be created\\n>in His image, so there is an argument that we are committed to whatever\\n>moral code He follows as part of trying to live up to that image.  If we\\n>are supposed to live by Christ\\'s example, you would be hard pressed to\\n>argue that God is a \"do what I say, not what I do\" kind of guy.\\n\\nThe trouble with all of this is that we don\\'t really know what the \"created\\nin His image\" means. I\\'ve heard a number of different opinions on this and\\nhave still not come to any conclusion. This rather upsets the Apple Cart if\\none wants to base a Life Script on this shaky foundation (to mix metaphors\\nunashamedly!) As to living by Christ\\'s example, we know very little about\\nJesus as a person. We only have his recorded utterances in a set of narratives\\nby his followers, and some very small references from comtemporary historians.\\nRevelation aside, one can only \"know\" Christ second-hand or worse.\\n\\nThis is not an attempt to debunk Christianity (although it may seem that way\\ninitially), the point I`m trying to make is that we only really have the Bible\\nto interpret, and that interpretation is by humanity. I guess this is where\\nFaith or Relevation comes in with all its inherent subjectiveness.\\n\\n>\\n>Metaphysically, if there are multiple moral codes then there is no\\n>Absolute moral code, and I think this is theologically questionable.\\n\\nNo. There may be an absolute moral code. There are undoubtably multiple\\nmoral codes. The multiple moral codes may be founded in the absolute moral\\ncode. As an example, a parent may tell a child never to swear, and the child\\nmay assume that the parent never swears simply because the parent has told\\nthe child that it is \"wrong\". Now, the parent may swear like a trooper in\\nthe pub or bar (where there are no children). The \"wrongness\" here is if\\nthe child disobeys the parent. The parent may feel that it is \"inappropriate\"\\nto swear in front of children but may be quite happy to swear in front of\\nanimals. The analogy does not quite hold water because the child knows that\\nhe is of the same type as the parent (and may be a parent later in life) but\\nyou get the gist of it? Incidentally, the young child considers the directive\\nas absolute until he gets older (see Piaget) and learns a morality of his own.\\n\\nDavid.\\n\\n---\\nOn religion:\\n\\n\"Oh, where is the sea?\", the fishes cried,\\nAs they swam its clearness through.\\n\\n',\n",
       " 'From: rodc@fc.hp.com (Rod Cerkoney)\\nSubject: *$G4qxF,fekVH6\\nNntp-Posting-Host: hpfcmrc.fc.hp.com\\nOrganization: Hewlett Packard, Fort Collins, CO\\nX-Newsreader: TIN [version 1.1 PL8.5]\\nLines: 15\\n\\n\\n\\n--\\n\\n\\nRegards,\\nRod Cerkoney\\n                                                        /\\\\\\n______________________________________________         /~~\\\\\\n                                                      /    \\\\\\n  Rod Cerkoney MS 37     email:                      /      \\\\ \\n  Hewlett Packard         rodc@fc.hp.com        /\\\\  /        \\\\  \\n  3404 East Harmony Rd.  Hpdesk:               /  \\\\/          \\\\    /\\\\\\n  Fort Collins, CO 80525  HP4000/UX           /    \\\\           \\\\  /  \\\\\\n_____________________________________________/      \\\\           \\\\/    \\\\__\\n',\n",
       " 'From: dbm0000@tm0006.lerc.nasa.gov (David B. Mckissock)\\nSubject: Re: Space Station Redesign, JSC Alternative #4\\nOrganization: NASA Lewis Research Center / Cleveland, Ohio\\nLines: 102\\nDistribution: world\\nNNTP-Posting-Host: tm0006.lerc.nasa.gov\\nNews-Software: VAX/VMS VNEWS 1.41    \\n\\nIn article <1993Apr23.184732.1105@aio.jsc.nasa.gov>, kjenks@gothamcity.jsc.nasa.gov writes...\\n\\n   {Description of \"External Tank\" option for SSF redesign deleted}\\n\\n>Mark proposed this design at Joe Shea\\'s committee in Crystal City,\\n>and he reports that he was warmly received.  However, the rumors\\n>I hear say that a design based on a wingless Space Shuttle Orbiter\\n>seems more likely.\\n\\nYo Ken, let\\'s keep on-top of things! Both the \"External Tank\" and\\n\"Wingless Orbiter\" options have been deleted from the SSF redesign\\noptions list. Today\\'s (4/23) edition of the New York Times reports\\nthat O\\'Connor told the panel that some redesign proposals have\\nbeen dropped, such as using the \"giant external fuel tanks used\\nin launching space shuttles,\" and building a \"station around\\nan existing space shuttle with its wings and tail removed.\"\\n\\nCurrently, there are three options being considered, as presented\\nto the advisory panel meeting yesterday (and as reported in\\ntoday\\'s Times).\\n\\nOption \"A\" - Low Cost Modular Approach\\nThis option is being studied by a team from MSFC. {As an aside,\\nthere are SSF redesign teams at MSFC, JSC, and LaRC supporting\\nthe SRT (Station Redesign Team) in Crystal City. Both LeRC and\\nReston folks are also on-site at these locations, helping the respective\\nteams with their redesign activities.} Key features of this\\noption are:\\n  -  Uses \"Bus-1\", a modular bus developed by Lockheed that\\'s\\n     qualified for STS and ELV\\'s. The bus provides propulsion, GN&C\\n     Communications, & Data Management. Lockheed developed this\\n     for the Air Force.\\n  -  A \"Power Station Capability\" is obtained in 3 Shuttle Flights.\\n     SSF Solar arrays are used to provide 20 kW of power. The vehicle\\n     flies in an \"arrow mode\" to optimize the microgravity environment.\\n     Shuttle/Spacelab missions would utilize the vehilce as a power\\n     source for 30 day missions.\\n  -  Human tended capability (as opposed to the old SSF sexist term\\n     of man-tended capability) is achieved by the addition of the\\n     US Common module. This is a modified version of the existing\\n     SSF Lab module (docking ports are added for the International\\n     Partners\\' labs, taking the place of the nodes on SSF). The\\n     Shuttle can be docked to the station for 60 day missions.\\n     The Orbiter would provide crew habitability & EVA capability.\\n  -  International Human Tended. Add the NASDA & ESA modules, and\\n     add another 20 kW of power\\n  -  Permanent Human Presence Capability. Add a 3rd power module,\\n     the U.S. habitation module, and an ACRV (Assured Crew Return\\n     Vehicle).\\n\\nOption \"B\" - Space Station Freedom Derived\\nThe Option \"B\" team is based at LaRC, and is lead by Mike Griffin.\\nThis option looks alot like the existing SSF design, which we\\nhave all come to know and love :)\\n\\nThis option assumes a lightweight external tank is available for\\nuse on all SSF assembly flights (so does option \"A\"). Also, the \\nnumber of flights is computed for a 51.6 inclination orbit,\\nfor both options \"A\" and \"B\".\\n\\nThe build-up occurs in six phases:\\n  -  Initial Research Capability reached after 3 flights. Power\\n     is transferred from the vehicle to the Orbiter/Spacelab, when\\n     it visits.\\n  -  Man-Tended Capability (Griffin has not yet adopted non-sexist\\n     language) is achieved after 8 flights. The U.S. Lab is\\n     deployed, and 1 solar power module provides 20 kW of power.\\n  -  Permanent Human Presence Capability occurs after 10 flights, by\\n     keeping one Orbiter on-orbit to use as an ACRV (so sometimes\\n     there would be two Orbiters on-orbit - the ACRV, and the\\n     second one that comes up for Logistics & Re-supply).\\n  -  A \"Two Fault Tolerance Capability\" is achieved after 14 flights,\\n     with the addition of a 2nd power module, another thermal\\n     control system radiator, and more propulsion modules.\\n  -  After 20 flights, the Internationals are on-board. More power,\\n     the Habitation module, and an ACRV are added to finish the\\n     assembly in 24 flights.\\n\\nMost of the systems currently on SSF are used as-is in this option, \\nwith the exception of the data management system, which has major\\nchanges.\\n\\nOption C - Single Core Launch Station.\\nThis is the JSC lead option. Basically, you take a 23 ft diameter\\ncylinder that\\'s 92 ft long, slap 3 Space Shuttle Main Engines on\\nthe backside, put a nose cone on the top, attached it to a \\nregular shuttle external tank and a regular set of solid rocket\\nmotors, and launch the can. Some key features are:\\n  - Complete end-to-end ground integration and checkout\\n  - 4 tangentially mounted fixed solar panels\\n  - body mounted radiators (which adds protection against\\n    micrometeroid & orbital debris)\\n  - 2 centerline docking ports (one on each end)\\n  - 7 berthing ports\\n  - a single pressurized volume, approximately 26,000 cubic feet\\n    (twice the volume of skylab).\\n  - 7 floors, center passageway between floors\\n  - 10 kW of housekeeping power\\n  - graceful degradation with failures (8 power channels, 4 thermal\\n    loops, dual environmental control & life support system)\\n  - increased crew time for utilization\\n  - 1 micro-g thru out the core module\\n',\n",
       " \"From: jllee@acsu.buffalo.edu (Johnny L Lee)\\nSubject: RE:  == MOVING SALE ===\\nSummary: RE:  === MOVING SALE ===\\nOrganization: UB\\nLines: 44\\nNntp-Posting-Host: lictor.acsu.buffalo.edu\\n\\nReduced Prices! \\nI have a list of things forsale on behalf of my brother, who's moving (moved\\nalready)\\n\\n\\t\\t\\t\\t\\t\\t\\t\\tOffer:\\n1) Black and Decker Duster Plus (Portable Hand Vaccum)\\t\\n \\tpurchased for $32, \\t\\t\\t\\t\\t  $12\\n\\n2) SR-1000 Dual Cassette Portable Player, AM/FM\\n5-Band graphics Equalizer, high speed dubing, Duo \\nTape.Tape deck A, seems to have lost treble sound. \\nBut, I bet  it's fixable.\\n\\tpurchased for $80\\t\\t\\t\\t\\t  $25\\n\\n3)Monolux Zoom MicroScope, up to 1200X magnification\\nMade in Japan, includes case and accessories\\n\\tpurchased for $50\\t\\t\\t\\t\\t  $20\\n\\n4)Sunbeam 1400 Hair Dryer, the dryer you put your \\nhead under/into. You know, the ones you see in the salons.\\n(Don't ask me why my bro had it)\\n\\tpurchased for $60\\t\\t\\t\\t          $24\\n\\n5)Everylast Speed Bag, all leather. Brand new, never \\nused\\t\\t\\t\\t\\t\\t\\t\\t  $10\\n\\n6)Osterizer Pusle Matic Blender, with 10 speeds \\nand a cookbook, 5 years old\\t\\t\\t\\t\\t  $10\\n\\tpurchased for $50\\n\\n8)Binolux Binoculars . 7x35, extra wide angle\\n525ft. at 1000yds. with case. very new.\\t\\t                  $20\\n\\n9)Proctor and Silex Spray,Steam and Dry Iron.\\nvery new.\\t\\t\\t\\t\\t\\t\\t  $10\\n\\n\\nAny questions, contact me thru e-mail and I will reply expeditously\\nAnd always, S+H are not included, so please consider this.\\n\\nAnd lastly, I'm a very reasonable.Very Reasonable.\\n\\n\\t\\t\\t\\t\\tThanks,\\n\\t\\t\\t\\t\\t\\tJohn\\n\",\n",
       " 'From: mathew <mathew@mantis.co.uk>\\nSubject: Re: <Political Atheists?\\nOrganization: Mantis Consultants, Cambridge. UK.\\nX-Newsreader: rusnews v1.01\\nLines: 22\\n\\nkmr4@po.CWRU.edu (Keith M. Ryan) writes:\\n> ( I am almost sure that Zyklon-B is immediate and painless method of \\n> death. If not, insert soem other form. )\\n> \\n>         And, ethnic and minority groups have been killed, mutilated and \\n> exterminated through out history, so I guess it was not unusual.\\n> \\n>         So, you would agree that the holocost would be allowed under the US \\n> Constitution?  [ in so far, the punishment. I doubt they recieved what would \\n> be considered a \"fair\" trial by US standards.\\n\\nDon\\'t be so sure.  Look what happened to Japanese citizens in the US during\\nWorld War II.  If you\\'re prepared to say \"Let\\'s round these people up and\\nstick them in a concentration camp without trial\", it\\'s only a short step to\\ngassing them without trial.  After all, it seems that the Nazis originally\\nonly intended to imprison the Jews; the Final Solution was dreamt up partly\\nbecause they couldn\\'t afford to run the camps because of the devastation\\ncaused by Goering\\'s Total War.  Those who weren\\'t gassed generally died of\\nmalnutrition or disease.\\n\\n\\nmathew\\n',\n",
       " 'From: ab@nova.cc.purdue.edu (Allen B)\\nSubject: Re: TIFF: philosophical significance of 42\\nOrganization: Purdue University\\nLines: 39\\n\\nIn article <prestonm.735400848@cs.man.ac.uk> prestonm@cs.man.ac.uk (Martin  \\nPreston) writes:\\n> Why not use the PD C library for reading/writing TIFF files? It took me a\\n> good 20 minutes to start using them in your own app.\\n\\nI certainly do use it whenever I have to do TIFF, and it usually works\\nvery well.  That\\'s not my point.  I\\'m >philosophically< opposed to it\\nbecause of its complexity.\\n\\nThis complexity has led to some programs\\' poor TIFF writers making\\nsome very bizarre files, other programs\\' inability to load TIFF\\nimages (though they\\'ll save them, of course), and a general\\ninability to interchange images between different environments\\ndespite the fact they all think they understand TIFF.\\n\\nAs the saying goes, \"It\\'s not me I\\'m worried about- it\\'s all the\\n>other<  assholes out there!\"  I\\'ve had big trouble with misuse and\\nabuse of TIFF over the years, and I chalk it all up to the immense (and\\nunnecessary) complexity of the format.\\n\\nIn the words of the TIFF 5.0 spec, Appendix G, page G-1 (capitalized\\nemphasis mine):\\n\\n\"The only problem with this sort of success is that TIFF was designed\\nto be powerful and flexible, at the expense of simplicity.  It takes a\\nfair amount of effort to handle all the options currently defined in\\nthis specification (PROBABLY NO APPLICATION DOES A COMPLETE JOB),\\nand that is currently the only way you can be >sure< that you will be\\nable to import any TIFF image, since there are so many\\nimage-generating applications out there now.\"\\n\\n\\nIf a program (or worse all applications) can\\'t read >every< TIFF\\nimage, that means there are some it won\\'t- some that I might have to\\ndeal with.  Why would I want my images to be trapped in that format?  I\\ndon\\'t and neither should anyone who agrees with my reasoning- not\\nthat anyone does, of course! :-)\\n\\nab\\n',\n",
       " 'From: CPKJP@vm.cc.latech.edu (Kevin Parker)\\nSubject: Insurance Rates on Performance Cars SUMMARY\\nOrganization: Louisiana Tech University\\nLines: 244\\nNNTP-Posting-Host: vm.cc.latech.edu\\nX-Newsreader: NNR/VM S_1.3.2\\n\\n     I recently posted an article asking what kind of rates single, male\\ndrivers under 25 yrs old were paying on performance cars. Here\\'s a summary of\\nthe replies I received.\\n \\n \\n \\n \\n-------------------------------------------------------------------------------\\n \\nI\\'m not under 25 anymore (but is 27 close enough).\\n \\n1992 Dodge Stealth RT/Twin Turbo (300hp model).\\nNo tickets, no accidents, own a house, have taken defensive driving 1,\\nairbag, abs, security alarm, single.\\n \\n$1500/year  $500 decut. State Farm Insurance (this includes the additional $100\\nfor the $1,000,000 umbrella policy over my car and house)  The base\\npolicy is the standard $100,000 - $100,000 - $300,000 policy required in DE.\\n \\nAfter 2nd defensive driving course it will be 5% less.\\n \\nI bought the car in September 1992.  The company I was with (never had\\nand accident or ticket in 11 years) quoted me $2,500.\\n \\nHope this helps.\\n \\nSteve Flynn\\nUniversity of Delaware\\n======================================================================== 45\\n \\n    Kevin:\\n \\n    (Hope I remembered your name correctly)...\\n \\n    You asked about insurance for performance cars.  Well, last year\\n    I was in a similar situation before I bought my car, and made the\\n    same inquiry as you.\\n \\n    Age: 24 (then and now)\\n    Car: 1992 Eagle Talon TSi AWD\\n    Driving Record: Clean\\n    State: Illinois\\n    Cost: $820/6 mos.\\n \\n    I turn 25 in May and the insurance goes down to $520/6 mos.\\n    Also, I\\'m single and that incurs a higher rate with my company.\\n \\n    I\\'ve got a couple other friends w/ AWDs and they pay more\\n    than I do (different ins. companies also), so maybe I\\'m just lucky.\\n \\n    Hope the info helps.\\n \\n    Dan\\n    [dans@jdc.gss.mot.com]\\n    Motorola Cellular Subscriber Group\\n \\n======================================================================== 38\\n USA\\nCc:\\n \\nI\\'m 23; live in Norman, Oklahoma; drive an \\'89 Thunderbird SC; have\\nnever made a claim against my insurance (though I have been hit\\nseveral times by negligent drivers who couldn\\'t see stop signs or\\nwere fiddling with their radios); and I have had three moving violations\\nin the last 18 months (one for going 85 in a 55; one for \"failure to\\nclear an intersection\" (I still say the damn light was yellow); and\\none for going 35 in a 25 (which didn\\'t go on my record)). My rates\\nfrom State Farm (with a passive restraint deduction) on liability,\\n$500 deductible comprehensive, and $500 deductible collision are\\nroughly $1300/year. (I was paying just over $1100/year for a \\'92 Escort LX.)\\n \\n\\t\\t\\t\\tJames\\n \\nJames P. Callison    Microcomputer Coordinator, U of Oklahoma Law Center\\nCallison@uokmax.ecn.uoknor.edu   /\\\\    Callison@aardvark.ucs.uoknor.edu\\nDISCLAIMER: I\\'m not an engineer, but I play one at work...\\n\\t\\tThe forecast calls for Thunder...\\'89 T-Bird SC\\n   \"It\\'s a hell of a thing, killing a man. You take away all he has\\n\\tand all he\\'s ever gonna have.\"\\n\\t\\t\\t--Will Munny, \"Unforgiven\"\\n======================================================================== 61\\n \\nI am beyond the \"under 25\" age group, but I have an experience a few\\nyears ago that might be interesting to you.  I owned a 1985 Toyota Celica\\nGT.  I decided to buy myself a gift - a more exotic car.  Front runners\\nincluded the Toyota Supra Turbo and the Porsche 924 (1987 model years).\\nI narrowed it down to those two.  I liked the simplicity and handling\\n(and snob appeal, too) of driving a Porsche.  The Supra Turbo was less\\nmoney and had more features and performance - almost a personal luxury\\ncar.  It had better acceleration and a higher top speed than the 924.\\nI was almost ready to give in to a buying impulse for the 924, but i\\ndecided to stop by my insurance agent\\'s office on the way.  I asked\\nabout what would happen to my rate with either car.\\n \\n\"If you buy the Supra, your rate classification will be the same as\\nthe Celica (the \\'85 Celica was considered a subcompact and for that\\nyear was rated as one of the safest cars), with a slight increase because\\nthe car will be 2 years newer.  Our lower-risk division will continue\\nto handle your account.\\n \\n\"If you buy the Porsche 924, we\\'ll have to change you to the standard\\n[higher] rate company and your rate will double.  And if you go with\\na 944, it\\'s another story again - we\\'ll cover the rest of this year,\\nbut cancel you after that.\"\\n \\n\"But the Supra is much faster than the 924, and the 924 is actually\\nfaster than the [standard] 944.  That doens\\'t make sense.\"\\n \\n That\\'s what the book says.  We don\\'t insure Corvettes, either.  For\\nsome reason, the underwriters consider Supras - and their drivers -\\nas very traditional and conservative.\"\\n \\nI eventually went with the Supra for a number of reasons.  The Porsche\\ndealer had a nice salesman to get me interested, but a tough high-pressure\\nguy in the back room.  At equal monthly payments, it would have taken\\na year longer to pay for the Porsche, plus its higher insurance.  I\\nconcluded that the high insurance was related to probability of auto\\ntheft.\\n \\n   /|/| /||)|/  /~ /\\\\| |\\\\|)[~|)/~   |   Everyone\\'s entitled to MY opinion.\\n  / | |/ ||\\\\|\\\\  \\\\_|\\\\/|_|/|)[_|\\\\\\\\_|  |      goldberg@oasys.dt.navy.mil\\n========Imagination is more important than knowledge. - Albert Einstein=======\\n \\n \\n \\n \\n \\n======================================================================== 32\\n \\nI live in Idaho.  When I was <26 many years ago (10 years) I bought a Trans\\nAm (new).  Insurance was about $1300/year.  When I turned 26, it immediately\\ndropped to $460/year.  I had not had any accidents before or after, this was\\nstrictly an age change.  That same rate stayed pretty much the same until I\\nsold the car 2 years ago.  My F-150 pickup is about $80/year less.\\n \\nThe real amazing thing is that when I woke up at age 25, I felt SO MUCH MORE\\nRESPONSIBLE than I was before...  :-)\\n \\nWes\\n \\n======================================================================== 21\\n \\n \\nFor your information:\\nCalifornia\\nMale, single, under 25 , No moving violation\\nAlfa Spider\\n     =======> $2000 / year\\n \\nWhat a bargain!!!\\n======================================================================== 28\\n \\nLet\\'s see, I\\'m 24, single, male, clean driving record. I have a 92 VW COrrado\\nVR6. I live in San Jose, California. I pay ~1500$ a year through Allstate. A\\ngood deal if you ask me.\\n \\nI was thinking about getting a Talon, but I think the insurance is higher\\nfor a \"turbo\" sports car vs a V6\\n \\n-W\\n \\n======================================================================== 27\\n \\n1986 Honda CRX Si, clean record, in a small New Mexico town was around $800\\nper year, age 24.\\n \\nNearby city rates were 1.5X-2X higher than where I\\'ve got mine insured.\\n \\n..robert\\n--\\nRobert Stack / Institute of Transportation Studies, Univ of California-Irvine\\n               stack@translab.its.uci.edu   \\'92 Mazda Protege LX\\n======================================================================== 37\\n1300 per year, 1992 Saturn SC, 21 Years old, State: New Mexico,\\nInsurance: State Farm.\\n \\n \\n======================================================================== 64\\n \\n \\nHere is my info:\\n \\nCar             : \\'89 Toyota Celica ST\\nInsurance Co    : Farmer\\'s Insurance\\nYearly insurance: $2028\\nAge             : 24\\nDate of license : Oct 14, 1992\\nResidence       : Mountain View, California\\nNo moving violations (for now atleast ;-)\\n \\nHope this helps. Please post a summary if possible.\\n \\nVijay\\n**********************************************************************\\nVijay Anisetti\\nEmail: anisetti@informix.com   Apt: (415)962-0320   Off: (415)926-6547\\n======================================================================== 38\\nSingle, 24 years old, Eagle Talon Turbo AWD, $1200 (full-cover, reasonable\\n liability)\\nNo tickets, No violations, No accidents... (knock on wood...)\\nMass,\\n \\n\\tOne thing that makes a HUGE difference in MASS is the town you live in.\\nI\\'m personally in one of the best towns within reasonable distance\\nof Boston.  If I moved to the absolute best it would go down to about\\n$1150, if I moved to the worst it would be $2000+..\\n \\n\\tAlso one accident and a couple of tickets, would probably add another $600...\\n \\n \\n\\t_RV\\n \\n \\n======================================================================== 43\\nI have a 1990 Mitsubishi eclipse turbo awd, am 23 years old and have no\\ntickets that went on my record.  I live in Illinois just outside of Chicago\\nand pay $1560 a year with full coverage at State Farm.  I did get a small\\ndiscount because of my alarm system($30 a year).  I only live 15 miles from\\nChicago but if I actually lived in the city the price would be about $2000\\na year.\\n======================================================================== 41\\nI\\'m over 25, but in case you\\'re interested anyway, I\\'m insuring a 93 SHO\\nfor $287/6 month.  Thats 100k personal+300k total+100k property with\\n250 deductible, glass and towing, State Farm.\\n \\n======================================================================== 39\\n \\nUnless you are under 20 or have been driving for less than 5\\nyears, I think you are being seriously ripped off.  I don\\'t have\\none of the performance cars you listed, but if your record is\\nclean, then you should not be paying over $2K.\\n \\nDid you try calling all the insurance dealers you could find?\\nAlthough rates are supposed to be standardized, I\\'ve found that\\nmost places I initially call, give me some ridiculously high\\nquote and *finaly*, I hit one that is much lower.\\n \\nAlso, I have changed insurance companies when the rate went up at\\nrenewal (no accidents, tickets, car gets older??) to maintain a low\\nrate.  You always have to be careful when it comes to insurance\\ncompanies 8^).\\n \\nGood luck,\\nSerge\\n',\n",
       " 'From: ritley@uimrl7.mrl.uiuc.edu ()\\nSubject: SEEKING THERMOCOUPLE AMPLIFIER CIRCUIT\\nReply-To: ritley@uiucmrl.bitnet ()\\nOrganization: Materials Research Lab\\nLines: 17\\n\\n\\n\\nI would like to be able to amplify a voltage signal which is\\noutput from a thermocouple, preferably by a factor of\\n100 or 1000 ---- so that the resulting voltage can be fed\\nmore easily into a personal-computer-based ADC data\\nacquisition card.\\n\\nMight anyone be able to point me to references to such\\ncircuits?  I have seen simple amplifier circuits before, but\\nI am not sure how well they work in practice.\\n\\nIn this case, I\\'d like something which will amplify sufficiently\\n\"nicely\" to be used for thermocouples (say, a few degrees\\naccuracy or better).\\n\\nAny pointers would be greatly appreciated!\\n',\n",
       " 'From: abarden@tybse1.uucp (Ann Marie Barden)\\nSubject: X-Terminal Config. file question\\nOrganization: Tybrin Corporation, Shalimar, FL\\nDistribution: usa\\nLines: 19\\n\\n  QUESTION:\\n  What is the EXACT entry (parameter and syntax please), in the X-Terminal\\nconfiguration file (loaded when the X-Terminal boots), to add another system \\nto the TCP/IP access control list?   \\n\\n  BACKGROUND:\\n  I have two unix systems, 1. an AT&T 3B2 running X11R3 and MIT\\'s X11R4 and \\n2. a Sun SS10 without any X.  \\n  I want to have a window to the Sun and the 3B2 on the NCD X-Terminal at the\\nsame time.  I can do this if I manually set the Network Parameter TCP/IP\\nAccess Control List to off, then login to my telnet session. Not Great!  \\n  I\\'ve tried to get \"xhost\" to work and failed.  Either my syntax is wrong\\nor the X11R3 implementation is bogus.  \\n  I am trying to edit the NCD configuration file that is loaded when the \\nNCD boots.  No matter what entry I add or edit, the NCD still boots with\\nthe TCP/IP Access Control list containing only the 3B2.\\n  My manuals are worthless so any help would be most appreciated!!  Thanks!\\n\\nAnn Marie Barden  \\tabarden@afseo.eglin.af.mil\\n']"
      ]
     },
     "execution_count": 32,
     "metadata": {},
     "output_type": "execute_result"
    }
   ],
   "source": [
    "fetch_20_train.data[0:20]"
   ]
  },
  {
   "cell_type": "code",
   "execution_count": 33,
   "id": "590df432",
   "metadata": {},
   "outputs": [
    {
     "data": {
      "text/plain": [
       "['alt.atheism',\n",
       " 'comp.graphics',\n",
       " 'comp.os.ms-windows.misc',\n",
       " 'comp.sys.ibm.pc.hardware',\n",
       " 'comp.sys.mac.hardware',\n",
       " 'comp.windows.x',\n",
       " 'misc.forsale',\n",
       " 'rec.autos',\n",
       " 'rec.motorcycles',\n",
       " 'rec.sport.baseball',\n",
       " 'rec.sport.hockey',\n",
       " 'sci.crypt',\n",
       " 'sci.electronics',\n",
       " 'sci.med',\n",
       " 'sci.space',\n",
       " 'soc.religion.christian',\n",
       " 'talk.politics.guns',\n",
       " 'talk.politics.mideast',\n",
       " 'talk.politics.misc',\n",
       " 'talk.religion.misc']"
      ]
     },
     "execution_count": 33,
     "metadata": {},
     "output_type": "execute_result"
    }
   ],
   "source": [
    "fetch_20_train.target_names"
   ]
  },
  {
   "cell_type": "code",
   "execution_count": 34,
   "id": "b03dff71",
   "metadata": {},
   "outputs": [
    {
     "data": {
      "text/plain": [
       "array([7, 4, 4, ..., 3, 1, 8])"
      ]
     },
     "execution_count": 34,
     "metadata": {},
     "output_type": "execute_result"
    }
   ],
   "source": [
    "fetch_20_train.target"
   ]
  },
  {
   "cell_type": "code",
   "execution_count": 35,
   "id": "dcb65558",
   "metadata": {},
   "outputs": [
    {
     "data": {
      "text/plain": [
       "dict_keys(['data', 'target', 'frame', 'feature_names', 'target_names', 'images', 'DESCR'])"
      ]
     },
     "execution_count": 35,
     "metadata": {},
     "output_type": "execute_result"
    }
   ],
   "source": [
    "digit_dataset = load_digits(n_class=10)\n",
    "digit_dataset.keys()"
   ]
  },
  {
   "cell_type": "code",
   "execution_count": 36,
   "id": "18bbf793",
   "metadata": {},
   "outputs": [
    {
     "data": {
      "text/plain": [
       "\".. _digits_dataset:\\n\\nOptical recognition of handwritten digits dataset\\n--------------------------------------------------\\n\\n**Data Set Characteristics:**\\n\\n    :Number of Instances: 1797\\n    :Number of Attributes: 64\\n    :Attribute Information: 8x8 image of integer pixels in the range 0..16.\\n    :Missing Attribute Values: None\\n    :Creator: E. Alpaydin (alpaydin '@' boun.edu.tr)\\n    :Date: July; 1998\\n\\nThis is a copy of the test set of the UCI ML hand-written digits datasets\\nhttps://archive.ics.uci.edu/ml/datasets/Optical+Recognition+of+Handwritten+Digits\\n\\nThe data set contains images of hand-written digits: 10 classes where\\neach class refers to a digit.\\n\\nPreprocessing programs made available by NIST were used to extract\\nnormalized bitmaps of handwritten digits from a preprinted form. From a\\ntotal of 43 people, 30 contributed to the training set and different 13\\nto the test set. 32x32 bitmaps are divided into nonoverlapping blocks of\\n4x4 and the number of on pixels are counted in each block. This generates\\nan input matrix of 8x8 where each element is an integer in the range\\n0..16. This reduces dimensionality and gives invariance to small\\ndistortions.\\n\\nFor info on NIST preprocessing routines, see M. D. Garris, J. L. Blue, G.\\nT. Candela, D. L. Dimmick, J. Geist, P. J. Grother, S. A. Janet, and C.\\nL. Wilson, NIST Form-Based Handprint Recognition System, NISTIR 5469,\\n1994.\\n\\n.. topic:: References\\n\\n  - C. Kaynak (1995) Methods of Combining Multiple Classifiers and Their\\n    Applications to Handwritten Digit Recognition, MSc Thesis, Institute of\\n    Graduate Studies in Science and Engineering, Bogazici University.\\n  - E. Alpaydin, C. Kaynak (1998) Cascading Classifiers, Kybernetika.\\n  - Ken Tang and Ponnuthurai N. Suganthan and Xi Yao and A. Kai Qin.\\n    Linear dimensionalityreduction using relevance weighted LDA. School of\\n    Electrical and Electronic Engineering Nanyang Technological University.\\n    2005.\\n  - Claudio Gentile. A New Approximate Maximal Margin Classification\\n    Algorithm. NIPS. 2000.\\n\""
      ]
     },
     "execution_count": 36,
     "metadata": {},
     "output_type": "execute_result"
    }
   ],
   "source": [
    "digit_dataset.DESCR"
   ]
  },
  {
   "cell_type": "code",
   "execution_count": 37,
   "id": "5e12d71a",
   "metadata": {},
   "outputs": [],
   "source": [
    "import matplotlib.pyplot as plt"
   ]
  },
  {
   "cell_type": "code",
   "execution_count": null,
   "id": "5c1adc2c",
   "metadata": {},
   "outputs": [],
   "source": [
    "plt.imshow()"
   ]
  }
 ],
 "metadata": {
  "kernelspec": {
   "display_name": "Python 3 (ipykernel)",
   "language": "python",
   "name": "python3"
  },
  "language_info": {
   "codemirror_mode": {
    "name": "ipython",
    "version": 3
   },
   "file_extension": ".py",
   "mimetype": "text/x-python",
   "name": "python",
   "nbconvert_exporter": "python",
   "pygments_lexer": "ipython3",
   "version": "3.9.12"
  }
 },
 "nbformat": 4,
 "nbformat_minor": 5
}
